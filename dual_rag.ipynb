{
  "nbformat": 4,
  "nbformat_minor": 0,
  "metadata": {
    "colab": {
      "provenance": []
    },
    "kernelspec": {
      "name": "python3",
      "display_name": "Python 3"
    },
    "language_info": {
      "name": "python"
    },
    "widgets": {
      "application/vnd.jupyter.widget-state+json": {
        "69e1962d998b473bb4aff46c89e666a6": {
          "model_module": "@jupyter-widgets/controls",
          "model_name": "HBoxModel",
          "model_module_version": "1.5.0",
          "state": {
            "_dom_classes": [],
            "_model_module": "@jupyter-widgets/controls",
            "_model_module_version": "1.5.0",
            "_model_name": "HBoxModel",
            "_view_count": null,
            "_view_module": "@jupyter-widgets/controls",
            "_view_module_version": "1.5.0",
            "_view_name": "HBoxView",
            "box_style": "",
            "children": [
              "IPY_MODEL_17fbbe9c4be64bc3a1a723866080de8f",
              "IPY_MODEL_14a4efa2f4ad426cacb82218e0437e5b",
              "IPY_MODEL_36e79d6728f648dfbd2cc66e4522556d"
            ],
            "layout": "IPY_MODEL_e0d960f8a9ee4fe5945adce34c20614e"
          }
        },
        "17fbbe9c4be64bc3a1a723866080de8f": {
          "model_module": "@jupyter-widgets/controls",
          "model_name": "HTMLModel",
          "model_module_version": "1.5.0",
          "state": {
            "_dom_classes": [],
            "_model_module": "@jupyter-widgets/controls",
            "_model_module_version": "1.5.0",
            "_model_name": "HTMLModel",
            "_view_count": null,
            "_view_module": "@jupyter-widgets/controls",
            "_view_module_version": "1.5.0",
            "_view_name": "HTMLView",
            "description": "",
            "description_tooltip": null,
            "layout": "IPY_MODEL_722f9eee0e9f4688bb43d0528cc4f4a8",
            "placeholder": "​",
            "style": "IPY_MODEL_b4012fd540694f7bbf2e0a4d3752cc42",
            "value": "Downloading builder script: 100%"
          }
        },
        "14a4efa2f4ad426cacb82218e0437e5b": {
          "model_module": "@jupyter-widgets/controls",
          "model_name": "FloatProgressModel",
          "model_module_version": "1.5.0",
          "state": {
            "_dom_classes": [],
            "_model_module": "@jupyter-widgets/controls",
            "_model_module_version": "1.5.0",
            "_model_name": "FloatProgressModel",
            "_view_count": null,
            "_view_module": "@jupyter-widgets/controls",
            "_view_module_version": "1.5.0",
            "_view_name": "ProgressView",
            "bar_style": "success",
            "description": "",
            "description_tooltip": null,
            "layout": "IPY_MODEL_eae04079db2e40e0908f6e84d6e1c2e3",
            "max": 6270,
            "min": 0,
            "orientation": "horizontal",
            "style": "IPY_MODEL_9c5ecc2552824f398911c70a87f3cf6e",
            "value": 6270
          }
        },
        "36e79d6728f648dfbd2cc66e4522556d": {
          "model_module": "@jupyter-widgets/controls",
          "model_name": "HTMLModel",
          "model_module_version": "1.5.0",
          "state": {
            "_dom_classes": [],
            "_model_module": "@jupyter-widgets/controls",
            "_model_module_version": "1.5.0",
            "_model_name": "HTMLModel",
            "_view_count": null,
            "_view_module": "@jupyter-widgets/controls",
            "_view_module_version": "1.5.0",
            "_view_name": "HTMLView",
            "description": "",
            "description_tooltip": null,
            "layout": "IPY_MODEL_29a4075654b54f7da561ef94033ee91b",
            "placeholder": "​",
            "style": "IPY_MODEL_33a889d7bd5548d1a6ee6323dd120573",
            "value": " 6.27k/6.27k [00:00&lt;00:00, 252kB/s]"
          }
        },
        "e0d960f8a9ee4fe5945adce34c20614e": {
          "model_module": "@jupyter-widgets/base",
          "model_name": "LayoutModel",
          "model_module_version": "1.2.0",
          "state": {
            "_model_module": "@jupyter-widgets/base",
            "_model_module_version": "1.2.0",
            "_model_name": "LayoutModel",
            "_view_count": null,
            "_view_module": "@jupyter-widgets/base",
            "_view_module_version": "1.2.0",
            "_view_name": "LayoutView",
            "align_content": null,
            "align_items": null,
            "align_self": null,
            "border": null,
            "bottom": null,
            "display": null,
            "flex": null,
            "flex_flow": null,
            "grid_area": null,
            "grid_auto_columns": null,
            "grid_auto_flow": null,
            "grid_auto_rows": null,
            "grid_column": null,
            "grid_gap": null,
            "grid_row": null,
            "grid_template_areas": null,
            "grid_template_columns": null,
            "grid_template_rows": null,
            "height": null,
            "justify_content": null,
            "justify_items": null,
            "left": null,
            "margin": null,
            "max_height": null,
            "max_width": null,
            "min_height": null,
            "min_width": null,
            "object_fit": null,
            "object_position": null,
            "order": null,
            "overflow": null,
            "overflow_x": null,
            "overflow_y": null,
            "padding": null,
            "right": null,
            "top": null,
            "visibility": null,
            "width": null
          }
        },
        "722f9eee0e9f4688bb43d0528cc4f4a8": {
          "model_module": "@jupyter-widgets/base",
          "model_name": "LayoutModel",
          "model_module_version": "1.2.0",
          "state": {
            "_model_module": "@jupyter-widgets/base",
            "_model_module_version": "1.2.0",
            "_model_name": "LayoutModel",
            "_view_count": null,
            "_view_module": "@jupyter-widgets/base",
            "_view_module_version": "1.2.0",
            "_view_name": "LayoutView",
            "align_content": null,
            "align_items": null,
            "align_self": null,
            "border": null,
            "bottom": null,
            "display": null,
            "flex": null,
            "flex_flow": null,
            "grid_area": null,
            "grid_auto_columns": null,
            "grid_auto_flow": null,
            "grid_auto_rows": null,
            "grid_column": null,
            "grid_gap": null,
            "grid_row": null,
            "grid_template_areas": null,
            "grid_template_columns": null,
            "grid_template_rows": null,
            "height": null,
            "justify_content": null,
            "justify_items": null,
            "left": null,
            "margin": null,
            "max_height": null,
            "max_width": null,
            "min_height": null,
            "min_width": null,
            "object_fit": null,
            "object_position": null,
            "order": null,
            "overflow": null,
            "overflow_x": null,
            "overflow_y": null,
            "padding": null,
            "right": null,
            "top": null,
            "visibility": null,
            "width": null
          }
        },
        "b4012fd540694f7bbf2e0a4d3752cc42": {
          "model_module": "@jupyter-widgets/controls",
          "model_name": "DescriptionStyleModel",
          "model_module_version": "1.5.0",
          "state": {
            "_model_module": "@jupyter-widgets/controls",
            "_model_module_version": "1.5.0",
            "_model_name": "DescriptionStyleModel",
            "_view_count": null,
            "_view_module": "@jupyter-widgets/base",
            "_view_module_version": "1.2.0",
            "_view_name": "StyleView",
            "description_width": ""
          }
        },
        "eae04079db2e40e0908f6e84d6e1c2e3": {
          "model_module": "@jupyter-widgets/base",
          "model_name": "LayoutModel",
          "model_module_version": "1.2.0",
          "state": {
            "_model_module": "@jupyter-widgets/base",
            "_model_module_version": "1.2.0",
            "_model_name": "LayoutModel",
            "_view_count": null,
            "_view_module": "@jupyter-widgets/base",
            "_view_module_version": "1.2.0",
            "_view_name": "LayoutView",
            "align_content": null,
            "align_items": null,
            "align_self": null,
            "border": null,
            "bottom": null,
            "display": null,
            "flex": null,
            "flex_flow": null,
            "grid_area": null,
            "grid_auto_columns": null,
            "grid_auto_flow": null,
            "grid_auto_rows": null,
            "grid_column": null,
            "grid_gap": null,
            "grid_row": null,
            "grid_template_areas": null,
            "grid_template_columns": null,
            "grid_template_rows": null,
            "height": null,
            "justify_content": null,
            "justify_items": null,
            "left": null,
            "margin": null,
            "max_height": null,
            "max_width": null,
            "min_height": null,
            "min_width": null,
            "object_fit": null,
            "object_position": null,
            "order": null,
            "overflow": null,
            "overflow_x": null,
            "overflow_y": null,
            "padding": null,
            "right": null,
            "top": null,
            "visibility": null,
            "width": null
          }
        },
        "9c5ecc2552824f398911c70a87f3cf6e": {
          "model_module": "@jupyter-widgets/controls",
          "model_name": "ProgressStyleModel",
          "model_module_version": "1.5.0",
          "state": {
            "_model_module": "@jupyter-widgets/controls",
            "_model_module_version": "1.5.0",
            "_model_name": "ProgressStyleModel",
            "_view_count": null,
            "_view_module": "@jupyter-widgets/base",
            "_view_module_version": "1.2.0",
            "_view_name": "StyleView",
            "bar_color": null,
            "description_width": ""
          }
        },
        "29a4075654b54f7da561ef94033ee91b": {
          "model_module": "@jupyter-widgets/base",
          "model_name": "LayoutModel",
          "model_module_version": "1.2.0",
          "state": {
            "_model_module": "@jupyter-widgets/base",
            "_model_module_version": "1.2.0",
            "_model_name": "LayoutModel",
            "_view_count": null,
            "_view_module": "@jupyter-widgets/base",
            "_view_module_version": "1.2.0",
            "_view_name": "LayoutView",
            "align_content": null,
            "align_items": null,
            "align_self": null,
            "border": null,
            "bottom": null,
            "display": null,
            "flex": null,
            "flex_flow": null,
            "grid_area": null,
            "grid_auto_columns": null,
            "grid_auto_flow": null,
            "grid_auto_rows": null,
            "grid_column": null,
            "grid_gap": null,
            "grid_row": null,
            "grid_template_areas": null,
            "grid_template_columns": null,
            "grid_template_rows": null,
            "height": null,
            "justify_content": null,
            "justify_items": null,
            "left": null,
            "margin": null,
            "max_height": null,
            "max_width": null,
            "min_height": null,
            "min_width": null,
            "object_fit": null,
            "object_position": null,
            "order": null,
            "overflow": null,
            "overflow_x": null,
            "overflow_y": null,
            "padding": null,
            "right": null,
            "top": null,
            "visibility": null,
            "width": null
          }
        },
        "33a889d7bd5548d1a6ee6323dd120573": {
          "model_module": "@jupyter-widgets/controls",
          "model_name": "DescriptionStyleModel",
          "model_module_version": "1.5.0",
          "state": {
            "_model_module": "@jupyter-widgets/controls",
            "_model_module_version": "1.5.0",
            "_model_name": "DescriptionStyleModel",
            "_view_count": null,
            "_view_module": "@jupyter-widgets/base",
            "_view_module_version": "1.2.0",
            "_view_name": "StyleView",
            "description_width": ""
          }
        }
      }
    }
  },
  "cells": [
    {
      "cell_type": "code",
      "execution_count": 53,
      "metadata": {
        "colab": {
          "base_uri": "https://localhost:8080/"
        },
        "id": "-NmOg2sm63gc",
        "outputId": "351a6937-8e20-4b3d-d695-4a7a891e26c2"
      },
      "outputs": [
        {
          "output_type": "stream",
          "name": "stdout",
          "text": [
            "\u001b[?25l   \u001b[90m━━━━━━━━━━━━━━━━━━━━━━━━━━━━━━━━━━━━━━━━\u001b[0m \u001b[32m0.0/320.4 kB\u001b[0m \u001b[31m?\u001b[0m eta \u001b[36m-:--:--\u001b[0m\r\u001b[2K   \u001b[91m━━━━━━━━━━━━━━━━━━━\u001b[0m\u001b[90m╺\u001b[0m\u001b[90m━━━━━━━━━━━━━━━━━━━━\u001b[0m \u001b[32m153.6/320.4 kB\u001b[0m \u001b[31m4.6 MB/s\u001b[0m eta \u001b[36m0:00:01\u001b[0m\r\u001b[2K   \u001b[90m━━━━━━━━━━━━━━━━━━━━━━━━━━━━━━━━━━━━━━━━\u001b[0m \u001b[32m320.4/320.4 kB\u001b[0m \u001b[31m5.2 MB/s\u001b[0m eta \u001b[36m0:00:00\u001b[0m\n",
            "\u001b[?25h"
          ]
        }
      ],
      "source": [
        "!pip install -q langchain huggingface-hub faiss-cpu transformers sentence-transformers\n",
        "!pip install -q newsapi-python\n",
        "!pip install -q langchain-community\n",
        "!pip install -q openai==0.28\n",
        "!pip install -q evaluate\n",
        "!pip install -q rouge_score\n",
        "!pip install -q gradio_client"
      ]
    },
    {
      "cell_type": "code",
      "source": [
        "!huggingface-cli login"
      ],
      "metadata": {
        "colab": {
          "base_uri": "https://localhost:8080/"
        },
        "id": "J3E0hjCv7Of1",
        "outputId": "5f9fdd3c-9e04-4d07-bc41-989f0f27a6c3"
      },
      "execution_count": 55,
      "outputs": [
        {
          "output_type": "stream",
          "name": "stdout",
          "text": [
            "\n",
            "    _|    _|  _|    _|    _|_|_|    _|_|_|  _|_|_|  _|      _|    _|_|_|      _|_|_|_|    _|_|      _|_|_|  _|_|_|_|\n",
            "    _|    _|  _|    _|  _|        _|          _|    _|_|    _|  _|            _|        _|    _|  _|        _|\n",
            "    _|_|_|_|  _|    _|  _|  _|_|  _|  _|_|    _|    _|  _|  _|  _|  _|_|      _|_|_|    _|_|_|_|  _|        _|_|_|\n",
            "    _|    _|  _|    _|  _|    _|  _|    _|    _|    _|    _|_|  _|    _|      _|        _|    _|  _|        _|\n",
            "    _|    _|    _|_|      _|_|_|    _|_|_|  _|_|_|  _|      _|    _|_|_|      _|        _|    _|    _|_|_|  _|_|_|_|\n",
            "\n",
            "    A token is already saved on your machine. Run `huggingface-cli whoami` to get more information or `huggingface-cli logout` if you want to log out.\n",
            "    Setting a new token will erase the existing one.\n",
            "    To log in, `huggingface_hub` requires a token generated from https://huggingface.co/settings/tokens .\n",
            "Enter your token (input will not be visible): \n",
            "Add token as git credential? (Y/n) n\n",
            "Token is valid (permission: fineGrained).\n",
            "The token `LLM` has been saved to /root/.cache/huggingface/stored_tokens\n",
            "Your token has been saved to /root/.cache/huggingface/token\n",
            "Login successful.\n",
            "The current active token is: `LLM`\n"
          ]
        }
      ]
    },
    {
      "cell_type": "markdown",
      "source": [
        "# Model Implementation"
      ],
      "metadata": {
        "id": "eeF-LkrTPOaJ"
      }
    },
    {
      "cell_type": "code",
      "source": [
        "import numpy as np\n",
        "from transformers import AutoTokenizer, AutoModelForCausalLM, AutoModel\n",
        "from langchain.vectorstores import FAISS\n",
        "from faiss import IndexFlatIP\n",
        "from langchain_community.docstore.in_memory import InMemoryDocstore\n",
        "from langchain.embeddings import SentenceTransformerEmbeddings\n",
        "import requests\n",
        "from bs4 import BeautifulSoup\n",
        "from newsapi import NewsApiClient\n",
        "from huggingface_hub import InferenceClient\n",
        "import openai\n",
        "from langchain_core.documents import Document\n",
        "from uuid import uuid4\n",
        "from langchain_community.vectorstores.utils import DistanceStrategy\n",
        "import time\n",
        "from google.colab import userdata\n",
        "from gradio_client import Client"
      ],
      "metadata": {
        "id": "gjeXJPHN7Cl3"
      },
      "execution_count": 56,
      "outputs": []
    },
    {
      "cell_type": "code",
      "source": [
        "class NormalizedEmbeddings:\n",
        "    \"\"\"\n",
        "    A wrapper class for normalizing embeddings from a base model.\n",
        "    This class provides methods to embed a single query or a list of documents,\n",
        "    ensuring the resulting embeddings are normalized to unit vectors.\n",
        "    \"\"\"\n",
        "\n",
        "    def __init__(self, base_model):\n",
        "        \"\"\"\n",
        "        Initialize the NormalizedEmbeddings class.\n",
        "\n",
        "        Args:\n",
        "            base_model: An instance of a model that provides `embed_query`\n",
        "                        and `embed_documents` methods to generate embeddings.\n",
        "        \"\"\"\n",
        "        self.base_model = base_model\n",
        "\n",
        "    def embed_query(self, query):\n",
        "        \"\"\"\n",
        "        Generate and normalize the embedding for a single query.\n",
        "\n",
        "        Args:\n",
        "            query: The input query as a string.\n",
        "\n",
        "        Returns:\n",
        "            A normalized numpy array representing the query embedding.\n",
        "        \"\"\"\n",
        "        embedding = np.array(self.base_model.embed_query(query))\n",
        "        return embedding / np.linalg.norm(embedding)\n",
        "\n",
        "    def embed_documents(self, documents):\n",
        "        \"\"\"\n",
        "        Generate and normalize embeddings for a list of documents.\n",
        "\n",
        "        Args:\n",
        "            documents: A list of strings, each representing a document.\n",
        "\n",
        "        Returns:\n",
        "            A numpy array where each row is a normalized embedding for the\n",
        "            corresponding document.\n",
        "        \"\"\"\n",
        "        embeddings = np.array(self.base_model.embed_documents(documents))\n",
        "        return embeddings / np.linalg.norm(embeddings, axis=1, keepdims=True)"
      ],
      "metadata": {
        "id": "Pph3uPVc8s8h"
      },
      "execution_count": 57,
      "outputs": []
    },
    {
      "cell_type": "code",
      "source": [
        "class DualRagModel:\n",
        "    \"\"\"\n",
        "    A dual RAG (Retrieval-Augmented Generation) model that leverages two\n",
        "    separate vector databases: one for domain-specific, factual knowledge and\n",
        "    one for contextual conversation history. This model retrieves relevant\n",
        "    information from both sources to generate responses.\n",
        "    \"\"\"\n",
        "\n",
        "    def __init__(self, model='llama', logging='quiet'):\n",
        "        \"\"\"\n",
        "        Initialize the DualRagModel.\n",
        "\n",
        "        Args:\n",
        "            model (str): A text generation model, which can be one of \"llama\",\n",
        "                         \"gpt\", or \"mamba\", responsible for generating responses.\n",
        "            logging (str): A setting that controls the level of print statements.\n",
        "                           Can be \"quiet\" (no output), \"minimal\" (essential\n",
        "                           information only), or \"verbose\" (detailed logs).\n",
        "        \"\"\"\n",
        "        self.logging = logging\n",
        "        self.newsapi = NewsApiClient(api_key=userdata.get('NEWS_API_KEY'))\n",
        "        self.seen_urls = set()\n",
        "\n",
        "        embeddings = SentenceTransformerEmbeddings(model_name=\"all-mpnet-base-v2\")\n",
        "        self.normalized_embeddings = NormalizedEmbeddings(embeddings)\n",
        "        dimensions: int = len(embeddings.embed_query(\"dummy\"))\n",
        "\n",
        "        self.knowledge_db = FAISS(\n",
        "            embedding_function=self.normalized_embeddings.embed_query,\n",
        "            index=IndexFlatIP(dimensions),  # Use inner product for cosine similarity\n",
        "            docstore=InMemoryDocstore(),\n",
        "            index_to_docstore_id={},\n",
        "            distance_strategy=DistanceStrategy.MAX_INNER_PRODUCT\n",
        "        )\n",
        "\n",
        "        self.user_specific_db = FAISS(\n",
        "            embedding_function=self.normalized_embeddings.embed_query,\n",
        "            index=IndexFlatIP(dimensions),  # Use inner product for cosine similarity\n",
        "            docstore=InMemoryDocstore(),\n",
        "            index_to_docstore_id={},\n",
        "            distance_strategy=DistanceStrategy.MAX_INNER_PRODUCT\n",
        "        )\n",
        "\n",
        "        self.model = model\n",
        "\n",
        "        if model == 'llama':\n",
        "            self.client = InferenceClient(api_key=userdata.get('HF_TOKEN'))\n",
        "        elif model == 'mamba':\n",
        "            self.client = Client(\"tiiuae/falcon-mamba-playground\")\n",
        "\n",
        "    def news_search(self, query):\n",
        "        \"\"\"\n",
        "        Retrieve articles using the NewsAPI.\n",
        "\n",
        "        Args:\n",
        "            query (str): The search query to retrieve news articles.\n",
        "\n",
        "        Returns:\n",
        "            A list of articles, where each article is a dictionary containing\n",
        "            details such as the title, description, source, publication date.\n",
        "        \"\"\"\n",
        "        data = self.newsapi.get_everything(q=query,\n",
        "                                           language='en',\n",
        "                                           sort_by='relevancy',\n",
        "                                           page_size=5)\n",
        "\n",
        "        return data['articles']\n",
        "\n",
        "    def fetch_full_content(self, url):\n",
        "        \"\"\"\n",
        "        Fetch the full textual content from a given URL.\n",
        "\n",
        "        Args:\n",
        "            url (str): The URL of the webpage to fetch content from.\n",
        "\n",
        "        Returns:\n",
        "            A string containing the concatenated text content of all <p> tags on\n",
        "            the page, or None if the content cannot be fetched due to an error.\n",
        "        \"\"\"\n",
        "        try:\n",
        "            response = requests.get(url)\n",
        "            response.raise_for_status()\n",
        "            soup = BeautifulSoup(response.content, 'html.parser')\n",
        "            paragraphs = soup.find_all('p')\n",
        "            return '\\n'.join([p.get_text() for p in paragraphs])\n",
        "        except Exception as e:\n",
        "            return None  # Return None if full content cannot be fetched\n",
        "\n",
        "\n",
        "    def summarize_content_openAI(self, content):\n",
        "        \"\"\"\n",
        "        Summarize the given content using OpenAI's GPT model.\n",
        "\n",
        "        Args:\n",
        "            content (str): A string containing the text to be summarized.\n",
        "\n",
        "        Returns:\n",
        "            A string representing the summarized content, or an error message\n",
        "            if the summarization fails.\n",
        "        \"\"\"\n",
        "        openai.api_key = userdata.get('OPENAI_API_KEY')\n",
        "\n",
        "        try:\n",
        "            response = openai.ChatCompletion.create(\n",
        "                model=\"gpt-4o-mini\",  # Specify the model\n",
        "                messages=[\n",
        "                    {\"role\": \"system\", \"content\": \"You are a helpful assistant.\"},\n",
        "                    {\"role\": \"user\", \"content\": f\"Summarize the content below in 150 words or less:\\n{content}\"}\n",
        "                ],\n",
        "                temperature=0.7,\n",
        "                max_tokens=150\n",
        "            )\n",
        "            summary = response['choices'][0]['message']['content']\n",
        "            return summary\n",
        "        except Exception as e:\n",
        "            return f\"An error occurred: {e}\"\n",
        "\n",
        "    def update_knowledge_db(self, query):\n",
        "        \"\"\"\n",
        "        Update the knowledge database with new information based on the query.\n",
        "\n",
        "        Args:\n",
        "            query (str): A string representing the search query used to retrieve relevant articles.\n",
        "        \"\"\"\n",
        "        articles = self.news_search(query)\n",
        "        documents = []\n",
        "\n",
        "        for article in articles:\n",
        "            if article['url'] not in self.seen_urls:\n",
        "                self.seen_urls.add(article['url'])\n",
        "                content = self.fetch_full_content(article['url'])\n",
        "                if content:\n",
        "                    summarized_content = self.summarize_content_openAI(content)\n",
        "\n",
        "                    if self.logging == 'verbose':\n",
        "                        print(\"GPT summary: \", summarized_content)\n",
        "\n",
        "                    documents.append(Document(page_content=summarized_content, metadata={'source': 'news_api', 'timestamp': article['publishedAt'], 'search_timestamp': time.time()}))\n",
        "\n",
        "\n",
        "        uuids = [str(uuid4()) for _ in range(len(documents))]\n",
        "\n",
        "        if documents:\n",
        "            self.knowledge_db.add_documents(documents=documents, ids=uuids)\n",
        "            print(\"Knowledge database updated successfully!\")\n",
        "\n",
        "    def adaptive_retrieval(self, query):\n",
        "        \"\"\"\n",
        "        Perform adaptive retrieval of information based on the given query.\n",
        "\n",
        "        Args:\n",
        "            query (str): A string representing the user's query.\n",
        "\n",
        "        Returns:\n",
        "            A combined list of factual and contextual results relevant to the query.\n",
        "        \"\"\"\n",
        "        similar_context = self.user_specific_db.similarity_search_with_score(query, k=5)\n",
        "\n",
        "        if similar_context:\n",
        "            most_similar_context = similar_context[0] # Document object, similarity score\n",
        "            for doc, score in similar_context:\n",
        "                if score > 0.25 and doc.metadata['interaction_timestamp'] > most_similar_context[0].metadata['interaction_timestamp'] + 2:\n",
        "                    most_similar_context = (doc, score)\n",
        "\n",
        "            if most_similar_context[1] < 0.25: #be more generous with knowledge DB score threshold when context similarity is poor\n",
        "                if self.logging != 'quiet':\n",
        "                    print(\"AAAAAA\")\n",
        "                self.update_knowledge_db(query)\n",
        "\n",
        "                if self.logging == 'verbose':\n",
        "                    print(\"Most similar context score: \", most_similar_context[1])\n",
        "                    test = self.knowledge_db.similarity_search_with_score(query, score_threshold=0.0, k=10)\n",
        "                    print(\"Knowledge scores: \", [x[1] for x in test])\n",
        "\n",
        "                factual_results = [x[0] for x in self.knowledge_db.similarity_search_with_score(query, score_threshold=0.25, k=10)]\n",
        "            else:\n",
        "                query = openai.ChatCompletion.create(\n",
        "                    model=\"gpt-4o-mini\",\n",
        "                    messages=[\n",
        "                        {\"role\": \"system\", \"content\": \"Based on the context and query, generate up to 3 key words.\"},\n",
        "                        {\"role\": \"user\", \"content\": f\"Combine {query} with context from {most_similar_context[0]}\"}\n",
        "                    ],\n",
        "                    temperature=0.7,\n",
        "                    max_tokens=15\n",
        "                )\n",
        "                query = query['choices'][0]['message']['content']\n",
        "\n",
        "                if self.logging != 'quiet':\n",
        "                    print(\"BBBBBB\")\n",
        "                    print(\"GPT-created query: \", query)\n",
        "\n",
        "                self.update_knowledge_db(query)\n",
        "\n",
        "                if self.logging == 'verbose':\n",
        "                    print(\"Most similar context score: \", most_similar_context[1])\n",
        "                    test = self.knowledge_db.similarity_search_with_score(query, score_threshold=0.0, k=10)\n",
        "                    print(\"Knowledge scores: \", [x[1] for x in test])\n",
        "\n",
        "                sorted_factual_results = sorted(self.knowledge_db.similarity_search_with_score(query, score_threshold=0.4, k=10),\n",
        "                                     key=lambda x: x[0].metadata[\"search_timestamp\"],\n",
        "                                     reverse=True)\n",
        "                factual_results = [x[0] for x in sorted_factual_results]\n",
        "        else:\n",
        "            if self.logging != 'quiet':\n",
        "                print(\"CCCCCC\")\n",
        "\n",
        "            self.update_knowledge_db(query)\n",
        "\n",
        "            if self.logging == 'verbose':\n",
        "                test = self.knowledge_db.similarity_search_with_score(query, score_threshold=0.0, k=10)\n",
        "                print(\"Knowledge scores: \", [x[1] for x in test])\n",
        "\n",
        "            factual_results = [x[0] for x in self.knowledge_db.similarity_search_with_score(query, score_threshold=0.25, k=10)]\n",
        "\n",
        "        contextual_results = [x[0] for x in self.user_specific_db.similarity_search_with_score(query, score_threshold=0.3, k=10)]\n",
        "\n",
        "        if self.logging == 'verbose':\n",
        "            print(\"# of factual results:\" , len(factual_results))\n",
        "            print(\"# of contextual results: \", len(contextual_results))\n",
        "\n",
        "        results = factual_results + contextual_results\n",
        "\n",
        "        return results\n",
        "\n",
        "    def update_user_memory(self, user_query, model_response):\n",
        "        \"\"\"\n",
        "        Updates the user-specific database with the latest query and response.\n",
        "\n",
        "        Args:\n",
        "            user_query (str): The query provided by the user.\n",
        "            model_response (str): The response generated by the model.\n",
        "        \"\"\"\n",
        "        documents = []\n",
        "        documents.append(Document(page_content=user_query + \"\\n\" + model_response, metadata={'source': 'user_query', 'interaction_timestamp': time.time()}))\n",
        "        uuids = [str(uuid4()) for _ in range(len(documents))]\n",
        "\n",
        "        self.user_specific_db.add_documents(documents=documents, ids=uuids)\n",
        "        print(\"User-specific memory updated successfully!\")\n",
        "\n",
        "    def generate_response(self, query):\n",
        "        \"\"\"\n",
        "        Generate a response to the user's query based on relevant context from\n",
        "        previous results using the generator specified when instantiating the model.\n",
        "\n",
        "        Args:\n",
        "            query (str): The user's question or query.\n",
        "\n",
        "        Returns:\n",
        "            A string containing the generated response to the query based on the context.\n",
        "        \"\"\"\n",
        "        relevant_results = self.adaptive_retrieval(query)\n",
        "        context = \" \".join([result.page_content for result in relevant_results])\n",
        "\n",
        "        if self.model == 'llama':\n",
        "            input_prompt = f\"Based on this context: {context}\\n\\nAnswer this question: {query}\"\n",
        "\n",
        "            messages = [\n",
        "                {\n",
        "                    \"role\": \"user\",\n",
        "                    \"content\": input_prompt\n",
        "                }\n",
        "            ]\n",
        "\n",
        "            completion = self.client.chat.completions.create(\n",
        "                model=\"meta-llama/Meta-Llama-3-8B-Instruct\",\n",
        "                messages=messages,\n",
        "                max_tokens=75\n",
        "            )\n",
        "\n",
        "            generated_response = completion.choices[0].message.content\n",
        "            self.update_user_memory(query, generated_response)\n",
        "            return generated_response\n",
        "\n",
        "        elif self.model == 'gpt':\n",
        "            generated_response = openai.ChatCompletion.create(\n",
        "                model=\"gpt-4o-mini\",\n",
        "                messages=[\n",
        "                    {\"role\": \"system\", \"content\": \"Based on the context, answer the query.\"},\n",
        "                    {\"role\": \"user\", \"content\": f\"Based on this context: {context}\\n\\nAnswer this question: {query}\"}\n",
        "                ],\n",
        "                temperature=0.7,\n",
        "                max_tokens=75\n",
        "            )\n",
        "\n",
        "            generated_response = generated_response['choices'][0]['message']['content']\n",
        "            self.update_user_memory(query, generated_response)\n",
        "            return generated_response\n",
        "\n",
        "        elif self.model == 'mamba':\n",
        "            generated_response = self.client.predict(\n",
        "                message=f\"Based on this context: {context}\\n\\nAnswer this question: {query}\",\n",
        "                temperature=0.3,\n",
        "                max_new_tokens=512,\n",
        "                top_p=1,\n",
        "                top_k=20,\n",
        "                penalty=1.2,\n",
        "                api_name=\"/chat\"\n",
        "            )\n",
        "            self.update_user_memory(query, generated_response)\n",
        "            return generated_response"
      ],
      "metadata": {
        "id": "Y0baq8S67fOr"
      },
      "execution_count": 79,
      "outputs": []
    },
    {
      "cell_type": "markdown",
      "source": [
        "# Example Conversation"
      ],
      "metadata": {
        "id": "e_2zz68eOffd"
      }
    },
    {
      "cell_type": "code",
      "source": [
        "model = DualRagModel(logging='verbose')"
      ],
      "metadata": {
        "id": "7SA4eDL4Bx2a",
        "colab": {
          "base_uri": "https://localhost:8080/"
        },
        "outputId": "41b35626-bedf-4f5d-9647-eb85c96e7584"
      },
      "execution_count": 57,
      "outputs": [
        {
          "output_type": "stream",
          "name": "stderr",
          "text": [
            "WARNING:langchain_community.vectorstores.faiss:`embedding_function` is expected to be an Embeddings object, support for passing in a function will soon be removed.\n",
            "WARNING:langchain_community.vectorstores.faiss:`embedding_function` is expected to be an Embeddings object, support for passing in a function will soon be removed.\n"
          ]
        }
      ]
    },
    {
      "cell_type": "code",
      "source": [
        "user_query_1 = 'who shot the UHC ceo'\n",
        "model_response_1 = model.generate_response(user_query_1)"
      ],
      "metadata": {
        "colab": {
          "base_uri": "https://localhost:8080/"
        },
        "id": "kEj7cMQwB1U4",
        "outputId": "4c777f78-9a50-464e-dd0b-4dadc76cb722"
      },
      "execution_count": 58,
      "outputs": [
        {
          "output_type": "stream",
          "name": "stdout",
          "text": [
            "CCCCCC\n",
            "GPT summary:  Following the fatal shooting of Brian Thompson, CEO of UnitedHealthcare, social media erupted with sharp commentary and dark humor rather than condolences. Users expressed their disdain for the health insurance industry, sharing memes and anecdotes about their negative experiences with insurers. A Facebook post from UnitedHealthcare received a staggering number of laughing emojis, prompting the company to disable comments. The reaction highlighted widespread frustration with the healthcare system, with many feeling that Thompson's death symbolized deeper systemic issues in American healthcare. Some even suggested that the health insurance industry's practices were indirectly responsible for numerous deaths. In response to the backlash, Anthem Blue Cross Blue Shield quickly rescinded a controversial coverage plan. The intense online reaction may indicate a growing public reckoning with the challenges posed by privatized health insurance in\n",
            "GPT summary:  Luigi Mangione, a 26-year-old Ivy League graduate, has been arrested for the shooting death of UnitedHealthcare CEO Brian Thompson on December 4. Mangione was apprehended in Altoona, Pennsylvania, after being recognized at a McDonald's. He was found with a fake ID, a firearm similar to the one used in the shooting, and a manifesto criticizing healthcare corporations for prioritizing profit over care. The shooting, described as premeditated, occurred outside the New York Hilton Midtown, where Thompson was shot multiple times. Mangione has a notable background, being part of a prominent Baltimore real estate family and having graduated from the University of Pennsylvania. His social media history reflects anti-capitalist views and admiration for the Unabomber,\n",
            "GPT summary:  Luigi Mangione has been named a person of interest in the murder of UnitedHealthcare CEO Brian Thompson. Friends describe him as a kind and intelligent individual, noting his background as a University of Pennsylvania alumnus and a member of the Phi Kappa Psi fraternity. However, while Mangione's acquaintances speak highly of him, his family's reputation is less favorable; they are wealthy, prominent in Maryland, and reportedly difficult to work for. Mangione was detained in Pennsylvania after being recognized from suspect photos, possessing a gun, a fake ID, and a handwritten \"manifesto.\" Authorities have labeled him a \"strong person of interest\" in the case following Thompson's fatal shooting outside a Manhattan hotel. Mangione's family remains largely unresponsive to inquiries regarding the\n",
            "GPT summary:  Philip Klein, a former bodyguard for Brian Thompson, the late UnitedHealthcare CEO who was shot in NYC, expressed disbelief that Thompson was not accompanied by security at the time of his murder. Klein, whose firm provided bodyguards for Thompson in the 2000s, stated he was \"shocked and baffled\" that the high-profile executive did not have a security detail, especially given the threats faced by the insurance industry. He highlighted that Thompson should have worn a protective vest but likely chose not to for personal reasons. Klein criticized UnitedHealthcare for allowing Thompson to be out alone, emphasizing the need for heightened security for corporate leaders, given the hostility often directed at the insurance sector. Thompson was shot outside the New York Hilton in what police believe was\n",
            "GPT summary:  Luigi Mangione, the suspect in the murder of UnitedHealthcare CEO Brian Thompson, was never a client of the company, according to the NYPD. Chief of Detectives Joseph Kenny stated there is \"no indication\" that Mangione was insured by UnitedHealthcare, suggesting he may have targeted the organization for its status. Mangione was aware of the conference where Thompson was shot, and a manifesto found during his arrest in Pennsylvania criticized corporations, particularly in healthcare. He expressed regret for his actions but justified them by calling the companies \"parasites.\" Kenny also mentioned that a severe back injury might have influenced Mangione's actions. Currently detained in Pennsylvania, Mangione faces murder and gun charges in New York and intends to plead not guilty while seeking bail.\n",
            "Knowledge database updated successfully!\n",
            "Knowledge scores:  [0.57284105, 0.555518, 0.4990695, 0.49166724, 0.44034967]\n",
            "# of factual results: 5\n",
            "# of contextual results:  0\n",
            "User-specific memory updated successfully!\n"
          ]
        }
      ]
    },
    {
      "cell_type": "code",
      "source": [
        "print(model_response_1)"
      ],
      "metadata": {
        "colab": {
          "base_uri": "https://localhost:8080/"
        },
        "id": "1UVuWEj2ELUi",
        "outputId": "40aaea96-e32d-4edb-90d3-3ed1a4138229"
      },
      "execution_count": 59,
      "outputs": [
        {
          "output_type": "stream",
          "name": "stdout",
          "text": [
            "Luigi Mangione, a 26-year-old Ivy League graduate, has been arrested for the shooting death of UnitedHealthcare CEO Brian Thompson.\n"
          ]
        }
      ]
    },
    {
      "cell_type": "code",
      "source": [
        "user_query_2 = 'where was he shot'\n",
        "model_response_2 = model.generate_response(user_query_2)"
      ],
      "metadata": {
        "colab": {
          "base_uri": "https://localhost:8080/"
        },
        "id": "Eu4DnjLjDnbA",
        "outputId": "25c2bd07-326d-40db-8e2d-ac4c6a766f02"
      },
      "execution_count": 60,
      "outputs": [
        {
          "output_type": "stream",
          "name": "stdout",
          "text": [
            "BBBBBB\n",
            "GPT-created query:  Shooting, UnitedHealthcare, Brian Thompson\n",
            "GPT summary:  Brian Thompson, the CEO of UnitedHealthcare, was fatally shot in a targeted attack outside the Hilton Hotel in Midtown Manhattan on Wednesday morning. The incident occurred around 6:45 a.m., just before the company's annual investor conference was set to begin. Thompson, 50, was shot multiple times and pronounced dead shortly after arriving at the hospital. The assailant fled on an ebike, and while police are actively investigating, the suspect remains at large with conflicting witness descriptions complicating the search. Surveillance footage shows a figure wearing a hooded sweatshirt and a lighter-colored backpack. Mayor Eric Adams confirmed that the shooting does not appear to be random, and a $10,000 reward has been offered for information leading to the suspect's arrest.\n",
            "GPT summary:  Claims that Brian Thompson, the CEO of UnitedHealthcare, was shot on December 4 because he was about to testify against Rep. Nancy Pelosi for insider trading are false. The rumor began circulating on social media shortly after the shooting, with no credible evidence to support it. Despite the viral nature of these claims, which included misidentifications and conspiracy theories, they originated from accounts known for spreading misinformation. Thompson himself faced accusations of insider trading prior to his death, linked to a lawsuit alleging he and other executives sold shares based on confidential information regarding a DOJ investigation. While Pelosi and other lawmakers have faced scrutiny over stock trading, there is no indication that Thompson's murder was politically motivated. The actual motive behind the shooting remains unclear, but it is suggested to\n",
            "GPT summary:  The tragic killing of Brian Thompson, CEO of UnitedHealthcare, has deeply impacted the healthcare community. Thompson, a dedicated leader with 20 years at the company, was shot on his way to an investor conference. Following the incident, police arrested 26-year-old Luigi Mangione as a person of interest. Colleagues and competitors across the industry expressed their condolences and shared memories of Thompson's leadership and commitment to improving patient care. Antonio Toft, a UnitedHealth Group vice president, called Thompson a remarkable leader and cherished friend, while others highlighted his dedication and the deep loss felt by his family and the healthcare community. Many leaders, including those from Premier Inc., Elevance Health, and Kaiser Permanente, echoed sentiments of sorrow, emphasizing the senseless\n",
            "GPT summary:  The recent shooting of UnitedHealthcare CEO Brian Thompson in New York City sparked widespread discussions on social media about the frustrations of navigating the U.S. health care system. Many individuals, including Yolonda Wilson, shared personal stories of insurance denials that caused significant stress and anxiety. Wilson, a health care ethics professor, emphasized that this outpouring of grievances reflects deep-seated pain and helplessness toward the health care system, which often lacks clear channels for expressing frustrations. Research indicates that while many Americans express satisfaction with their health insurance, this sentiment wanes significantly among those with poor health. Experts highlight the emotional and psychological burdens of dealing with complex health care barriers, which can impede access to essential services. Overall, the incident has prompted a critical examination of\n",
            "GPT summary:  In the wake of the fatal shooting of UnitedHealthcare CEO Brian Thompson in New York City, several health insurance companies have removed executive leadership bios from their websites as a precautionary measure. Thompson was killed by a gunman who remains at large. UnitedHealthcare has made its leadership section inaccessible, and its parent company, UnitedHealth Group, has followed suit. Blue Cross and Blue Shield also removed its executive bios, including those from regional branches, while Medica confirmed the removal of its leadership page and increased employee security measures. Other companies, like CVS Health and Centene, have taken similar actions, such as removing photos of executives. These changes reflect heightened security concerns in the industry, although no specific threats have been reported. Companies are prioritizing employee safety following\n",
            "Knowledge database updated successfully!\n",
            "Most similar context score:  0.3492891\n",
            "Knowledge scores:  [0.7215904, 0.6665592, 0.63552254, 0.62588227, 0.6149982, 0.6099314, 0.5826182, 0.54138786, 0.5404831, 0.50848585]\n",
            "# of factual results: 10\n",
            "# of contextual results:  1\n",
            "User-specific memory updated successfully!\n"
          ]
        }
      ]
    },
    {
      "cell_type": "code",
      "source": [
        "print(model_response_2)"
      ],
      "metadata": {
        "colab": {
          "base_uri": "https://localhost:8080/"
        },
        "id": "zDFOGzQnEPHt",
        "outputId": "ffbc52bd-50e8-4bf0-fdfe-93466d001111"
      },
      "execution_count": 61,
      "outputs": [
        {
          "output_type": "stream",
          "name": "stdout",
          "text": [
            "According to the article, Brian Thompson, the CEO of UnitedHealthcare, was shot outside the New York Hilton Midtown in Midtown Manhattan on Wednesday morning around 6:45 a.m.\n"
          ]
        }
      ]
    },
    {
      "cell_type": "code",
      "source": [
        "user_query_3 = 'where was the suspect found'\n",
        "model_response_3 = model.generate_response(user_query_3)"
      ],
      "metadata": {
        "colab": {
          "base_uri": "https://localhost:8080/"
        },
        "id": "_el2Q7sGEVKn",
        "outputId": "a24944f3-6a38-4646-b381-63666e65921b"
      },
      "execution_count": 62,
      "outputs": [
        {
          "output_type": "stream",
          "name": "stdout",
          "text": [
            "BBBBBB\n",
            "GPT-created query:  Suspect, Location, Shooting\n",
            "GPT summary:  Corpus Christi police have arrested 33-year-old Julian Rodriguez in connection to a fatal shooting outside a business on Thanksgiving Day. Officers responded to reports of the shooting at around 3 p.m. in the 5200 block of Interstate Highway 37, where they found a man in the parking lot who later died at a hospital. Rodriguez fled the scene, but detectives identified him and located him at a residence on Manchester Avenue later that evening. He attempted to evade capture but was apprehended by police. The two men involved were known to each other, and the police have not released the victim's identity or the name of the business. The investigation is ongoing, and authorities encourage anyone with information to contact the police or Crime Stoppers.\n",
            "GPT summary:  Luigi Mangione, a 26-year-old Ivy League graduate from a wealthy Baltimore family, was arrested in Pennsylvania as the prime suspect in the targeted murder of UnitedHealthcare CEO Brian Thompson in New York City. Despite his privileged upbringing, friends described Mangione as humble and destined for success. However, he allegedly harbored resentment toward the healthcare system, citing frustrations in writings that echoed the ideology of the Unabomber, Ted Kaczynski. Mangione was found with a 3D-printed gun and a silencer, believed to match the weapon used in Thompson's murder. Investigators noted a significant decline in Mangione's mental state over recent months, coinciding with estrangement from family and friends. Following his arrest, Mang\n",
            "GPT summary:  The NYPD is investigating the assassination of UnitedHealth CEO Brian Thompson, who was shot multiple times in New York City. Surveillance footage shows the suspect, wearing a hood and facemask, lying in wait before attacking Thompson outside the Hilton Midtown. After the shooting, the gunman fled into Central Park and was last seen taking a taxi to the Port Authority bus station, leading authorities to believe he may have left New York. Police found bullet casings with the words \"deny,\" \"defend,\" and \"depose,\" echoing themes from a book on insurance claims. The investigation continues, with police visiting local hostels for leads.\n",
            "GPT summary:  A McDonald's employee in Pennsylvania helped capture murder suspect Luigi Mangione, leading to his arrest for the fatal shooting of Brian Thompson. However, Mangione's supporters reacted negatively by flooding the restaurant's Yelp page with poor reviews and creative A.I. images of rats, prompting Yelp to disable comments due to the malicious content. The employee alerted authorities when they recognized Mangione at the restaurant. Supporters have previously celebrated him online, sharing memes and merchandise, despite the serious nature of the crime. This incident highlights the growing divide between those who condemn Mangione's actions and his admirers, suggesting tensions will continue to escalate as the situation develops.\n",
            "GPT summary:  The McDonald's in Altoona, where suspected UnitedHealthcare CEO killer Luigi Mangione was arrested, has increased police presence due to heightened security concerns. The additional patrols, which the restaurant staff did not request, are a common response to high-profile crimes. Mangione was apprehended after a customer recognized him from suspect photos, leading to a police call. He faces second-degree murder charges for the December shooting of insurance executive Brian Thompson, along with gun and forgery charges. In response to the arrest, Mangione's supporters have left negative reviews on the McDonald's Yelp page, criticizing the establishment for its role in his capture. Despite the online hostility, police report no criminal activity at the location and have taken proactive measures to ensure safety, particularly for\n",
            "Knowledge database updated successfully!\n",
            "Most similar context score:  0.29358417\n",
            "Knowledge scores:  [0.5776518, 0.5320879, 0.5021616, 0.45505446, 0.4427681, 0.41322064, 0.4119566, 0.41075653, 0.37932718, 0.36706936]\n",
            "# of factual results: 8\n",
            "# of contextual results:  2\n",
            "User-specific memory updated successfully!\n"
          ]
        }
      ]
    },
    {
      "cell_type": "code",
      "source": [
        "print(model_response_3)"
      ],
      "metadata": {
        "colab": {
          "base_uri": "https://localhost:8080/"
        },
        "id": "PMBYQtIfEcJR",
        "outputId": "e6819592-3cf0-4b05-cc88-aed50aa59159"
      },
      "execution_count": 63,
      "outputs": [
        {
          "output_type": "stream",
          "name": "stdout",
          "text": [
            "According to the article, Luigi Mangione, the suspect, was arrested in Altoona, Pennsylvania, after being recognized at a McDonald's restaurant.\n"
          ]
        }
      ]
    },
    {
      "cell_type": "code",
      "source": [
        "user_query_4 = 'how did people react'\n",
        "model_response_4 = model.generate_response(user_query_4)"
      ],
      "metadata": {
        "colab": {
          "base_uri": "https://localhost:8080/"
        },
        "id": "EbsCdgw3EeRx",
        "outputId": "330081b8-ccdd-4d58-95b2-152a3603cb29"
      },
      "execution_count": 64,
      "outputs": [
        {
          "output_type": "stream",
          "name": "stdout",
          "text": [
            "AAAAAA\n",
            "GPT summary:  In the second episode of *Dune: Prophecy*, titled “Two Wolves,” tensions escalate as characters navigate their ambitions amid a backdrop of murder and political intrigue. Valya Harkonnen, a key player in the Sisterhood's quest for power, faces off against Desmond Hart, a mysterious figure with unique abilities, as both strive to manipulate the unfolding events. Following the violent deaths of key characters, the Sisterhood grapples with the implications of these losses, while Valya devises plans to secure a marriage alliance for Princess Ynez. Meanwhile, tensions rise within the Imperial court as Desmond’s influence grows, leading to confrontations with Valya. As Lila undergoes a perilous ritual, dark secrets emerge, including Valya\n",
            "GPT summary:  The 2024 election marked a significant shift towards digital platforms, notably podcasts and YouTube, as key mediums for political engagement. Influential figures from traditional media, such as Tucker Carlson and Megyn Kelly, have transitioned to creating their own online content, a trend that has gained momentum recently. Chris Balfe, CEO of Red Seat Ventures, explains that advancements in technology and monetization have made this shift more feasible. While traditional media remains relevant, the digital space offers quicker scaling opportunities, though challenges persist, particularly in securing advertisers. Balfe emphasizes the importance of a dedicated fanbase in transitioning from traditional to digital media, noting that podcast listeners are often more engaged than YouTube viewers. This evolution reflects a growing recognition of the impact that podcasts and\n",
            "GPT summary:  Riot Games' animated series, *Arcane*, has become a significant triumph as the company’s first venture into entertainment, showcasing their characters and world-building after 18 years of development. In an interview, co-founder Marc Merrill expressed pride in the show’s success, noting that it exceeded expectations and resonated deeply with both fans and players. The collaboration with Fortiche was praised for its animation quality, and Merrill emphasized the company’s commitment to storytelling and character integrity.\n",
            "\n",
            "Despite concerns over recent layoffs and a reported $250 million budget for *Arcane*, Merrill clarified that the actual production cost was lower, and the budget reflects a commitment to quality rather than inexperience. He highlighted that the aim of *Arcane* was not to directly increase game\n",
            "GPT summary:  U.S. President-elect Donald Trump announced plans to impose a 25% tariff on all products from Mexico and Canada, and a 10% tariff on goods from China, effective on his first day in office. This announcement led to a rally in the dollar, which rose against both the Canadian dollar and the Mexican peso, while U.S. stock futures and Asian markets declined. Analysts are questioning the immediate implementation of these tariffs and their conditional nature, linked to issues regarding the movement of people and drugs. Some market experts suggest that the tariffs may be less severe than previously anticipated, with potential for negotiations ahead. Trump's actions appear aimed at asserting control over trade policy, despite expectations that his Treasury Secretary nominee, Scott Bessent, would adopt a more\n",
            "GPT summary:  Amy Gallo and four listeners participated in Alison Fragale's \"nos challenge,\" aimed at helping individuals articulate their work wishes—like promotions, feedback, or project leads—by asking colleagues for what they want. The exercise encourages asking ten different people until they receive ten \"no\" responses, tracking both \"yeses\" and \"nos.\" Participants found that they often received more yeses than expected, which helped reduce their fear of rejection and increased their assertiveness. Through this experience, they learned the importance of clear communication and the value of understanding how to ask for help. Fragale, a professor of organizational behavior, emphasizes the balance of warmth and assertiveness in these interactions. Overall, the challenge not only enabled participants to fulfill their work wishes but\n",
            "Knowledge database updated successfully!\n",
            "Most similar context score:  0.19727236\n",
            "Knowledge scores:  [0.41496727, 0.31162181, 0.2677614, 0.2658407, 0.23767829, 0.21974438, 0.21880144, 0.20662008, 0.20627803, 0.18361004]\n",
            "# of factual results: 4\n",
            "# of contextual results:  0\n",
            "User-specific memory updated successfully!\n"
          ]
        }
      ]
    },
    {
      "cell_type": "code",
      "source": [
        "print(model_response_4)"
      ],
      "metadata": {
        "colab": {
          "base_uri": "https://localhost:8080/"
        },
        "id": "lKnNKAC9Enb0",
        "outputId": "d1441045-a69c-4e3b-e435-cbaccbfe4bc6"
      },
      "execution_count": 65,
      "outputs": [
        {
          "output_type": "stream",
          "name": "stdout",
          "text": [
            "According to the text, people reacted with:\n",
            "\n",
            "1. Sharp commentary and dark humor instead of condolences on social media, often expressing disdain for the health insurance industry and sharing memes and anecdotes about their negative experiences with insurers.\n",
            "2. Laughing emojis and memes on a Facebook post from UnitedHealthcare, prompting the company to disable comments.\n",
            "3. Negative reviews and creative A.I.\n"
          ]
        }
      ]
    },
    {
      "cell_type": "code",
      "source": [
        "user_query_5 = 'when was president yoon impeached'\n",
        "model_response_5 = model.generate_response(user_query_5)"
      ],
      "metadata": {
        "colab": {
          "base_uri": "https://localhost:8080/"
        },
        "id": "V_avnokTEt-j",
        "outputId": "f5f5f853-98c2-4bd6-fe17-4c3ef128c363"
      },
      "execution_count": 66,
      "outputs": [
        {
          "output_type": "stream",
          "name": "stdout",
          "text": [
            "AAAAAA\n",
            "GPT summary:  South Korean lawmakers have impeached President Yoon Suk Yeol following his controversial attempt to impose martial law, which ignited widespread protests. The impeachment motion, supported by members of Yoon's own People Power Party (PPP) and opposition, passed with 204 votes in favor. Protesters celebrated outside the National Assembly, viewing the vote as a victory for democracy. Yoon, suspended from office, pledged to continue fighting, calling the vote a temporary setback. The constitutional court has 180 days to decide on the impeachment's validity. If upheld, a new presidential election must occur within 60 days. Prime Minister Han Duck-soo is now acting president amid ongoing police investigations into the events surrounding Yoon's martial law attempt. Public sentiment largely favors\n",
            "GPT summary:  South Korean police are raiding the presidential office of President Yoon Suk Yeol amid political turmoil following his attempted martial law declaration. Although they accessed civil service offices, the main building remains blocked by security guards. Yoon faces multiple investigations for insurrection and treason after surviving an impeachment vote. His former defense minister, Kim Yong-hyun, who declared martial law, attempted suicide while in detention. Amid resignations of close officials, the ruling party's lawmakers have boycotted impeachment votes after Yoon agreed to shorten his term. The opposition has criticized these developments as unconstitutional. Eighteen investigators are pursuing records related to the controversial cabinet meeting preceding the martial law attempt, and Yoon was named in the search warrant. Experts suggest that Yoon\n",
            "GPT summary:  In South Korea, opposition politicians have initiated impeachment proceedings against President Yoon Suk Yeol following his controversial attempt to impose martial law, marking a significant political crisis since the country transitioned to democracy in 1987. Yoon has accused his opposition of undermining democracy and cooperating with North Korea. Meanwhile, the U.S. Supreme Court is set to hear a pivotal case regarding a Tennessee law that restricts access to gender-affirming care for minors, reflecting a broader trend as many states have enacted similar bans. In France, Prime Minister Michel Barnier faces a no-confidence vote that could result in his ousting due to budgetary disputes. Lastly, Americans are urged to be vigilant against \"porch pirates\" this holiday season, as package thefts\n",
            "GPT summary:  South Korean President Yoon Suk-yeol, after declaring martial law on Tuesday and quickly rescinding it amid public protests, faces significant political fallout and possible impeachment. His conservative People Power Party holds a slim majority in the National Assembly, but many members have criticized him, raising doubts about their support. Observers describe Yoon's actions as an “inept semi-coup,” and experts predict his presidency may be effectively over, regardless of whether he resigns or is removed. The political crisis has rattled financial markets and tarnished South Korea's international reputation, with suggestions that it reflects poorly on its democratic maturity. However, some argue that the swift public and political response showcases the resilience of Korean democracy. The situation reveals deep political polarization, with\n",
            "GPT summary:  Andrew Minjun Park, a 27-year-old graduate student at Seoul National University, reflects on his experience participating in protests against South Korean President Yoon Suk Yeol's declaration of martial law. Initially skeptical about the legitimacy of the announcement, Park felt compelled to join the protests after realizing the seriousness of the situation. Despite concerns about potential violence and arrest, he took the subway to the National Assembly, where he witnessed a growing crowd of protesters, including families and students. The protests remained peaceful, and when the National Assembly voted to block the martial law decree, calls for President Yoon's impeachment emerged. After Yoon announced the lifting of martial law, Park returned home and informed his parents, who supported his decision to protest. He remains cautious about\n",
            "Knowledge database updated successfully!\n",
            "Most similar context score:  0.2466791\n",
            "Knowledge scores:  [0.7191807, 0.70099634, 0.58727217, 0.5638263, 0.48962048, 0.28103042, 0.24549863, 0.24510755, 0.22526726, 0.21765041]\n",
            "# of factual results: 6\n",
            "# of contextual results:  0\n",
            "User-specific memory updated successfully!\n"
          ]
        }
      ]
    },
    {
      "cell_type": "code",
      "source": [
        "print(model_response_5)"
      ],
      "metadata": {
        "colab": {
          "base_uri": "https://localhost:8080/"
        },
        "id": "w6G1BCjEE4SU",
        "outputId": "63834ce5-6971-4ad6-b732-72808c0163c1"
      },
      "execution_count": 67,
      "outputs": [
        {
          "output_type": "stream",
          "name": "stdout",
          "text": [
            "According to the text, President Yoon Suk Yeol was impeached by the National Assembly with 204 votes in favor, which passed following his controversial attempt to impose martial law.\n"
          ]
        }
      ]
    },
    {
      "cell_type": "code",
      "source": [
        "user_query_6 = 'who impeached him'\n",
        "model_response_6 = model.generate_response(user_query_6)"
      ],
      "metadata": {
        "colab": {
          "base_uri": "https://localhost:8080/"
        },
        "id": "Cu7_bqWzE6RN",
        "outputId": "ee041087-bb70-442f-c40b-3031a28ab183"
      },
      "execution_count": 68,
      "outputs": [
        {
          "output_type": "stream",
          "name": "stdout",
          "text": [
            "BBBBBB\n",
            "GPT-created query:  Impeachment, Yoon Suk Yeol, National Assembly\n",
            "GPT summary:  South Korean MPs have initiated impeachment proceedings against President Yoon Suk Yeol following his abrupt declaration of martial law, which he justified as a measure against North Korea's threats and domestic issues. The National Assembly was stormed by MPs who voted to block the martial law, with some reportedly breaking through barricades. Meanwhile, India’s economic growth shows signs of slowing despite remaining robust. Other global incidents include a devastating fire in the Philippines destroying around 1,000 homes, volcanic eruptions causing panic in Flores, and the successful landing of three astronauts from China’s Shenzhou-18 mission after six months in space. Additionally, a BBC investigation led to the rescue of a monkey from an online torture ring, while severe flooding near Chiang Mai prompted the evacuation\n",
            "GPT summary:  South Korean President Yoon Suk Yeol has apologized for his recent declaration of martial law, which he quickly retracted after backlash from the National Assembly. Facing potential impeachment, Yoon acknowledged his actions shocked the public and stated he would accept legal and political responsibility. His ruling People Power Party's leader indicated that Yoon's resignation is inevitable, while opposition leaders expressed disappointment and vowed to pursue his removal from office. Public sentiment is largely against Yoon, with citizens expressing fear and loss of trust. Protests erupted outside the National Assembly, demanding his resignation. Although the impeachment vote was temporarily paused, it is anticipated to fail due to a lack of support from Yoon's party. This political turmoil follows Yoon's low approval ratings and challenges from corruption\n",
            "GPT summary:  South Korea's National Assembly has impeached President Yoon Suk Yeol for his brief imposition of martial law on December 3, with the motion passing 204 to 85 votes. Yoon is now suspended while the constitutional court deliberates his fate, with a ruling expected within 180 days. Following the vote, Yoon expressed resilience, stating, \"I will never give up,\" and emphasized his commitment to the nation. His martial law declaration, aimed at combating \"anti-state forces,\" sparked widespread protests in Seoul and demands for his resignation, leading to celebrations among the public after the impeachment. Yoon rescinded the martial law six hours later, following legislative pushback, and had previously survived another impeachment attempt due to a boycott by his\n",
            "GPT summary:  South Korea's parliament impeached President Yoon Suk Yeol on Saturday, following his controversial six-hour martial law decree, marking a significant moment in the nation's democracy. The National Assembly voted 204-85 to suspend Yoon's powers, transferring authority to Prime Minister Han Duck-soo. The Constitutional Court now has up to 180 days to decide Yoon's fate, with a potential national election if he is dismissed. Public protests and Yoon's plummeting approval ratings, now at 11%, fueled calls for his impeachment. Supporters celebrated the decision, viewing it as a victory for democracy, while Yoon vowed to continue serving the country despite the suspension. His martial law declaration, which aimed to curb opposition, drew accusations of rebellion\n",
            "Knowledge database updated successfully!\n",
            "Most similar context score:  0.55463743\n",
            "Knowledge scores:  [0.76112914, 0.7506474, 0.7434887, 0.7364797, 0.6711902, 0.6540861, 0.61717623, 0.550599, 0.5087712, 0.26338607]\n",
            "# of factual results: 9\n",
            "# of contextual results:  1\n",
            "User-specific memory updated successfully!\n"
          ]
        }
      ]
    },
    {
      "cell_type": "code",
      "source": [
        "print(model_response_6)"
      ],
      "metadata": {
        "colab": {
          "base_uri": "https://localhost:8080/"
        },
        "id": "oFBYi8EpHaV8",
        "outputId": "23d8a6dc-c65b-4127-8e38-8df7a0d6c81a"
      },
      "execution_count": 69,
      "outputs": [
        {
          "output_type": "stream",
          "name": "stdout",
          "text": [
            "According to the text, South Korea's parliament (National Assembly) impeached President Yoon Suk Yeol.\n"
          ]
        }
      ]
    },
    {
      "cell_type": "code",
      "source": [
        "user_query_7 = 'why was he impeached'\n",
        "model_response_7 = model.generate_response(user_query_7)"
      ],
      "metadata": {
        "colab": {
          "base_uri": "https://localhost:8080/"
        },
        "id": "HB1wM6zxHb0b",
        "outputId": "74cc51c3-93d4-4503-ff5d-ad6a928147d0"
      },
      "execution_count": 70,
      "outputs": [
        {
          "output_type": "stream",
          "name": "stdout",
          "text": [
            "BBBBBB\n",
            "GPT-created query:  Impeachment, Yoon Suk Yeol, National Assembly\n",
            "Most similar context score:  0.42207247\n",
            "Knowledge scores:  [0.76112914, 0.7506474, 0.7434887, 0.7364797, 0.6711902, 0.6540861, 0.61717623, 0.550599, 0.5087712, 0.26338607]\n",
            "# of factual results: 9\n",
            "# of contextual results:  2\n",
            "User-specific memory updated successfully!\n"
          ]
        }
      ]
    },
    {
      "cell_type": "code",
      "source": [
        "print(model_response_7)"
      ],
      "metadata": {
        "colab": {
          "base_uri": "https://localhost:8080/"
        },
        "id": "qDYhD_CsHr8i",
        "outputId": "976f3bc9-d781-4d4d-f087-49ecdfabc24f"
      },
      "execution_count": 71,
      "outputs": [
        {
          "output_type": "stream",
          "name": "stdout",
          "text": [
            "According to the text, President Yoon Suk Yeol was impeached by the National Assembly due to his controversial attempt to impose martial law, which sparked widespread protests and calls for his impeachment.\n"
          ]
        }
      ]
    },
    {
      "cell_type": "code",
      "source": [
        "user_query_8 = 'what was the public reaction'\n",
        "model_response_8 = model.generate_response(user_query_8)"
      ],
      "metadata": {
        "colab": {
          "base_uri": "https://localhost:8080/"
        },
        "id": "qJAXPIqKHtl7",
        "outputId": "94279dbe-a8ff-4971-994e-152095448f3f"
      },
      "execution_count": 72,
      "outputs": [
        {
          "output_type": "stream",
          "name": "stdout",
          "text": [
            "BBBBBB\n",
            "GPT-created query:  Impeachment, Martial Law, Protests\n",
            "GPT summary:  South Korea's constitutional court is proceeding with the impeachment trial of President Yoon Suk Yeol, who was suspended for declaring martial law amid political unrest. Following a parliamentary vote for impeachment, widespread protests erupted, demanding Yoon's resignation. The court has six months to decide on Yoon's fate, with public hearings expected to take months, although there is pressure for a quick resolution. Prime Minister Han Duck-soo is currently acting as president. Yoon, who has not yet decided if he will testify, faces potential arrest for ignoring a summons from prosecutors. The ruling People Power Party (PPP) is reeling from the impeachment, leading to the resignation of its leader Han Dong-hoon and other Supreme Council members. If the court upholds the\n",
            "GPT summary:  South Korean President Yoon Suk Yeol avoided impeachment after his ruling People Power Party (PPP) boycotted a vote aimed at suspending him, following his controversial declaration of martial law. The impeachment motion, backed by the opposition, failed to reach the required 200 votes. Yoon’s martial law declaration, the first since South Korea's democratization, was revoked within hours after lawmakers convened to reject it. The opposition, which holds a legislative majority, plans to push for another impeachment vote. Amid growing public protests against Yoon, who apologized for the political crisis, Prime Minister Han Duck-soo will assume a more prominent role in governance. The unfolding political instability poses risks for the PPP, with potential defections expected as public discontent\n",
            "Knowledge database updated successfully!\n",
            "Most similar context score:  0.27639845\n",
            "Knowledge scores:  [0.5369604, 0.528106, 0.5046067, 0.49811864, 0.49479538, 0.4837952, 0.48280168, 0.48227257, 0.48110482, 0.40408581]\n",
            "# of factual results: 10\n",
            "# of contextual results:  3\n",
            "User-specific memory updated successfully!\n"
          ]
        }
      ]
    },
    {
      "cell_type": "code",
      "source": [
        "print(model_response_8)"
      ],
      "metadata": {
        "colab": {
          "base_uri": "https://localhost:8080/"
        },
        "id": "ODiMBgY1H5M7",
        "outputId": "8b4f4922-724a-4c9b-da7a-1f3672277256"
      },
      "execution_count": 73,
      "outputs": [
        {
          "output_type": "stream",
          "name": "stdout",
          "text": [
            "According to the text, the public reaction to President Yoon Suk Yeol's impeachment was largely one of favor, with widespread protests and celebrations outside the National Assembly. Many citizens viewed the vote as a victory for democracy.\n"
          ]
        }
      ]
    },
    {
      "cell_type": "code",
      "source": [
        "user_query_9 = 'what was the public reaction to the uhc shooting'\n",
        "model_response_9 = model.generate_response(user_query_9)"
      ],
      "metadata": {
        "colab": {
          "base_uri": "https://localhost:8080/"
        },
        "id": "aQP4rSTMILO6",
        "outputId": "60d1ec35-ca3e-4592-cfbd-0998bf9b2634"
      },
      "execution_count": 74,
      "outputs": [
        {
          "output_type": "stream",
          "name": "stdout",
          "text": [
            "BBBBBB\n",
            "GPT-created query:  Public Reaction, UHC Shooting, Protests\n",
            "Most similar context score:  0.48188865\n",
            "Knowledge scores:  [0.5199699, 0.48004287, 0.4574015, 0.45619774, 0.44298798, 0.429627, 0.42686567, 0.4268387, 0.42229253, 0.41329944]\n",
            "# of factual results: 10\n",
            "# of contextual results:  4\n",
            "User-specific memory updated successfully!\n"
          ]
        }
      ]
    },
    {
      "cell_type": "code",
      "source": [
        "print(model_response_9)"
      ],
      "metadata": {
        "colab": {
          "base_uri": "https://localhost:8080/"
        },
        "id": "DBy_6Ef-Pf93",
        "outputId": "27992c25-ea53-4466-938c-1c0b5f2d19c4"
      },
      "execution_count": 75,
      "outputs": [
        {
          "output_type": "stream",
          "name": "stdout",
          "text": [
            "According to the text, the public reaction to the shooting death of UnitedHealthcare CEO Brian Thompson was largely one of shock, outrage, and criticism of the health insurance industry, with many people expressing their disdain for the industry and sharing their negative experiences with insurers on social media.\n"
          ]
        }
      ]
    },
    {
      "cell_type": "markdown",
      "source": [
        "# Testing with Test Dataset"
      ],
      "metadata": {
        "id": "tHqIr5o6gsbo"
      }
    },
    {
      "cell_type": "code",
      "source": [
        "import evaluate\n",
        "import matplotlib.pyplot as plt"
      ],
      "metadata": {
        "id": "HMDxir-LXYDL"
      },
      "execution_count": 6,
      "outputs": []
    },
    {
      "cell_type": "code",
      "source": [
        "rouge = evaluate.load(\"rouge\")"
      ],
      "metadata": {
        "id": "dOFd4S7EEK0m",
        "colab": {
          "base_uri": "https://localhost:8080/",
          "height": 49,
          "referenced_widgets": [
            "69e1962d998b473bb4aff46c89e666a6",
            "17fbbe9c4be64bc3a1a723866080de8f",
            "14a4efa2f4ad426cacb82218e0437e5b",
            "36e79d6728f648dfbd2cc66e4522556d",
            "e0d960f8a9ee4fe5945adce34c20614e",
            "722f9eee0e9f4688bb43d0528cc4f4a8",
            "b4012fd540694f7bbf2e0a4d3752cc42",
            "eae04079db2e40e0908f6e84d6e1c2e3",
            "9c5ecc2552824f398911c70a87f3cf6e",
            "29a4075654b54f7da561ef94033ee91b",
            "33a889d7bd5548d1a6ee6323dd120573"
          ]
        },
        "outputId": "a0b91b6c-c1f6-4bb8-d17a-363fee893085"
      },
      "execution_count": 7,
      "outputs": [
        {
          "output_type": "display_data",
          "data": {
            "text/plain": [
              "Downloading builder script:   0%|          | 0.00/6.27k [00:00<?, ?B/s]"
            ],
            "application/vnd.jupyter.widget-view+json": {
              "version_major": 2,
              "version_minor": 0,
              "model_id": "69e1962d998b473bb4aff46c89e666a6"
            }
          },
          "metadata": {}
        }
      ]
    },
    {
      "cell_type": "markdown",
      "source": [
        "## LLaMa"
      ],
      "metadata": {
        "id": "F1y1iFZrIQvn"
      }
    },
    {
      "cell_type": "markdown",
      "source": [
        "### Single Topic Conversations"
      ],
      "metadata": {
        "id": "2Sw3lzeeOvr5"
      }
    },
    {
      "cell_type": "code",
      "source": [
        "queries_1 = [\"Who shot the UHC CEO?\",\n",
        "             \"Where was he shot?\",\n",
        "             \"Where was the suspect found?\",\n",
        "             \"How did people react?\"]\n",
        "outputs_1 = []\n",
        "labels_1 = [\"Luigi Mangione, a 26 year old Ivy League graduate, shot Brian Thompson, the CEO of UnitedHealthcare\",\n",
        "            \"Brian Thompson was shot in New York City in Midtown Manhattan outside of the Hilton hotel\",\n",
        "            \"Luigi Mangione was found at a McDonald's restaurant in Altoona, Pennsylvania with a fake ID, firearm, and manifesto after being recognized\",\n",
        "            \"People reacted with dark humor, critical commentary, sharing memes, jokes, and personal stories, criticism of the healthcare system, and anger and outrage towards health insurers\"]\n",
        "\n",
        "model_1 = DualRagModel(logging='quiet')\n",
        "\n",
        "for query in queries_1:\n",
        "    outputs_1.append(model_1.generate_response(query))"
      ],
      "metadata": {
        "id": "rUQ4HPhmPiJ1",
        "colab": {
          "base_uri": "https://localhost:8080/"
        },
        "outputId": "7e3fc86d-ffbf-4e6e-fdb1-140693550f58"
      },
      "execution_count": 76,
      "outputs": [
        {
          "output_type": "stream",
          "name": "stderr",
          "text": [
            "WARNING:langchain_community.vectorstores.faiss:`embedding_function` is expected to be an Embeddings object, support for passing in a function will soon be removed.\n",
            "WARNING:langchain_community.vectorstores.faiss:`embedding_function` is expected to be an Embeddings object, support for passing in a function will soon be removed.\n"
          ]
        },
        {
          "output_type": "stream",
          "name": "stdout",
          "text": [
            "Knowledge database updated successfully!\n",
            "User-specific memory updated successfully!\n",
            "Knowledge database updated successfully!\n",
            "User-specific memory updated successfully!\n",
            "Knowledge database updated successfully!\n",
            "User-specific memory updated successfully!\n",
            "Knowledge database updated successfully!\n",
            "User-specific memory updated successfully!\n"
          ]
        }
      ]
    },
    {
      "cell_type": "code",
      "source": [
        "for output in outputs_1:\n",
        "    print(output)"
      ],
      "metadata": {
        "colab": {
          "base_uri": "https://localhost:8080/"
        },
        "id": "flU98kjQPYKE",
        "outputId": "6b7b4853-b8b5-407d-8d76-f712cb724453"
      },
      "execution_count": 81,
      "outputs": [
        {
          "output_type": "stream",
          "name": "stdout",
          "text": [
            "According to the text, the suspect who shot and killed UnitedHealthcare CEO Brian Thompson has not been identified yet, and the police have classified the shooting as a \"premeditated, preplanned targeted attack\".\n",
            "According to the text, Brian Thompson was shot outside the Hilton Hotel in Midtown Manhattan.\n",
            "According to the text, the suspect, Luigi Mangione, was arrested on December 9 in Altoona, Pennsylvania, after a week-long manhunt.\n",
            "According to the text, people reacted to the murder of UnitedHealth CEO Brian Thompson in various ways, including:\n",
            "\n",
            "* Expressing little sympathy for him on social media due to UnitedHealth's history of denying health insurance claims\n",
            "* Viewing the killing as a form of vigilante justice, reflecting widespread anger over healthcare injustices, particularly during the COVID-19 pandemic when many claims were\n"
          ]
        }
      ]
    },
    {
      "cell_type": "code",
      "source": [
        "rouge_scores_1 = rouge.compute(predictions=outputs_1, references=labels_1)\n",
        "\n",
        "print(\"ROUGE Scores:\")\n",
        "for key, value in rouge_scores_1.items():\n",
        "    print(f\"{key}: {value:.4f}\")"
      ],
      "metadata": {
        "id": "J1FDzH9Gg9PP",
        "colab": {
          "base_uri": "https://localhost:8080/"
        },
        "outputId": "ac2a9d14-32c1-41d5-b23d-0d44e4ef75ec"
      },
      "execution_count": 80,
      "outputs": [
        {
          "output_type": "stream",
          "name": "stdout",
          "text": [
            "ROUGE Scores:\n",
            "rouge1: 0.3841\n",
            "rouge2: 0.1863\n",
            "rougeL: 0.2812\n",
            "rougeLsum: 0.2812\n"
          ]
        }
      ]
    },
    {
      "cell_type": "code",
      "source": [
        "queries_2 = ['When was President Yoon impeached',\n",
        "             'Who impeached him',\n",
        "             'Why was he impeached',\n",
        "             'What was the public’s reaction']\n",
        "outputs_2 = []\n",
        "labels_2 = ['President Yoon Suk Yeol was impeached on December 14, 2024.',\n",
        "            'South Korean lawmakers in the National Assembly impeached President Yoon Suk Yeol.',\n",
        "            'President Yoon Suk Yeol was impeached due to his declaration of martial law.',\n",
        "            'There were widespread protests. Thousands of protestors celebrated the result of the impeachment vote and viewed it as a victory for democracy.']\n",
        "\n",
        "model_2 = DualRagModel(logging='quiet')\n",
        "\n",
        "for query in queries_2:\n",
        "    outputs_2.append(model_2.generate_response(query))"
      ],
      "metadata": {
        "colab": {
          "base_uri": "https://localhost:8080/"
        },
        "id": "_wj8uvrmllHN",
        "outputId": "b035ef4c-86f1-40ab-a81f-c3adf3098bd6"
      },
      "execution_count": 83,
      "outputs": [
        {
          "output_type": "stream",
          "name": "stderr",
          "text": [
            "WARNING:langchain_community.vectorstores.faiss:`embedding_function` is expected to be an Embeddings object, support for passing in a function will soon be removed.\n",
            "WARNING:langchain_community.vectorstores.faiss:`embedding_function` is expected to be an Embeddings object, support for passing in a function will soon be removed.\n"
          ]
        },
        {
          "output_type": "stream",
          "name": "stdout",
          "text": [
            "Knowledge database updated successfully!\n",
            "User-specific memory updated successfully!\n",
            "Knowledge database updated successfully!\n",
            "User-specific memory updated successfully!\n",
            "Knowledge database updated successfully!\n",
            "User-specific memory updated successfully!\n",
            "Knowledge database updated successfully!\n",
            "User-specific memory updated successfully!\n"
          ]
        }
      ]
    },
    {
      "cell_type": "code",
      "source": [
        "for output in outputs_2:\n",
        "    print(output)"
      ],
      "metadata": {
        "colab": {
          "base_uri": "https://localhost:8080/"
        },
        "id": "zkHw8YP5VPur",
        "outputId": "541c2307-6a04-41a7-de8f-91a3d21ffd2a"
      },
      "execution_count": 96,
      "outputs": [
        {
          "output_type": "stream",
          "name": "stdout",
          "text": [
            "According to the context, the impeachment of President Yoon Suk Yeol has been passed by the South Korean lawmakers, but the question of whether the impeachment is being upheld or not is still pending. The constitutional court now has 180 days to decide on the impeachment, and if upheld, a new presidential election must occur within 60 days. Therefore, it is not clear when\n",
            "According to the context, South Korean lawmakers impeached President Yoon Suk Yeol over his attempt to impose martial law, which led to widespread protests.\n",
            "According to the context, President Yoon Suk Yeol was impeached for his brief imposition of martial law on December 3, which led to widespread protests and calls for his resignation.\n",
            "According to the context, the public's reaction was one of widespread protests and calls for Yoon's resignation. Thousands of anti-Yoon protesters celebrated outside the National Assembly following the vote to impeach Yoon. The protests were sparked by Yoon's declaration of martial law, which he rescinded within hours after facing intense backlash.\n"
          ]
        }
      ]
    },
    {
      "cell_type": "code",
      "source": [
        "rouge_scores_2 = rouge.compute(predictions=outputs_2, references=labels_2)\n",
        "\n",
        "print(\"ROUGE Scores:\")\n",
        "for key, value in rouge_scores_2.items():\n",
        "    print(f\"{key}: {value:.4f}\")"
      ],
      "metadata": {
        "colab": {
          "base_uri": "https://localhost:8080/"
        },
        "id": "aoniOSMhmec3",
        "outputId": "e8e3485c-643e-4ab6-c18b-9de6688a4145"
      },
      "execution_count": 84,
      "outputs": [
        {
          "output_type": "stream",
          "name": "stdout",
          "text": [
            "ROUGE Scores:\n",
            "rouge1: 0.3646\n",
            "rouge2: 0.2078\n",
            "rougeL: 0.3131\n",
            "rougeLsum: 0.3131\n"
          ]
        }
      ]
    },
    {
      "cell_type": "code",
      "source": [
        "queries_3 = ['When was Trump’s first conference after the election held',\n",
        "             'Who did he nominate as attorney general',\n",
        "             'Who did he nominate for Secretary of State',\n",
        "             'Who is he replacing as president',\n",
        "             'What top executives has he met with or will meet',\n",
        "             'What did he say in the conference']\n",
        "outputs_3 = []\n",
        "labels_3 = ['Donald Trump’s first press conference after the election was held at Mar-a-Lago.',\n",
        "            'Donald Trump nominated Pam Bondi for attorney general.',\n",
        "            'Donald Trump nominated Marco Rubio for Secretary of State.',\n",
        "            'Donald Trump is replacing Joe Biden as president.',\n",
        "            'Donald Trump will meet with Mark Zuckerburg, Tim Cook, Sundar Pichai, and Jeff Bezos.',\n",
        "            \"He discussed SoftBank's $100 billion investment plan in U.S. projects, the Ukraine war, border wall construction and potential legal action, New York Mayor Eric Adams' legal troubles, his transition process and meetings with business leaders, and drones in New Jersey.\"]\n",
        "\n",
        "model_3 = DualRagModel(logging='quiet')\n",
        "\n",
        "for query in queries_3:\n",
        "    outputs_3.append(model_3.generate_response(query))"
      ],
      "metadata": {
        "colab": {
          "base_uri": "https://localhost:8080/"
        },
        "id": "a4JfZsOSvKGf",
        "outputId": "5b9559ee-7cce-4da3-e049-985df909c734"
      },
      "execution_count": 85,
      "outputs": [
        {
          "output_type": "stream",
          "name": "stderr",
          "text": [
            "WARNING:langchain_community.vectorstores.faiss:`embedding_function` is expected to be an Embeddings object, support for passing in a function will soon be removed.\n",
            "WARNING:langchain_community.vectorstores.faiss:`embedding_function` is expected to be an Embeddings object, support for passing in a function will soon be removed.\n"
          ]
        },
        {
          "output_type": "stream",
          "name": "stdout",
          "text": [
            "Knowledge database updated successfully!\n",
            "User-specific memory updated successfully!\n",
            "Knowledge database updated successfully!\n",
            "User-specific memory updated successfully!\n",
            "Knowledge database updated successfully!\n",
            "User-specific memory updated successfully!\n",
            "Knowledge database updated successfully!\n",
            "User-specific memory updated successfully!\n",
            "Knowledge database updated successfully!\n",
            "User-specific memory updated successfully!\n",
            "Knowledge database updated successfully!\n",
            "User-specific memory updated successfully!\n"
          ]
        }
      ]
    },
    {
      "cell_type": "code",
      "source": [
        "for output in outputs_3:\n",
        "    print(output)"
      ],
      "metadata": {
        "colab": {
          "base_uri": "https://localhost:8080/"
        },
        "id": "cd41bJdDVSMz",
        "outputId": "9a43ca77-1506-4bab-edea-fdafbe3dc2de"
      },
      "execution_count": 97,
      "outputs": [
        {
          "output_type": "stream",
          "name": "stdout",
          "text": [
            "The article does not specify when Trump's conference was held, but it mentions that it was a \"recent\" event, and that the article was published after Trump's presidential victory. Therefore, we cannot pinpoint an exact date for the conference.\n",
            "According to the article, President-elect Donald Trump initially nominated Matt Gaetz for Attorney General, but Gaetz withdrew his nomination due to controversies surrounding allegations of sex trafficking and drug use. Then, Trump nominated Pam Bondi, a veteran prosecutor and former Florida attorney general, for the role.\n",
            "According to the article, President-elect Donald Trump nominated Marco Rubio as Secretary of State.\n",
            "The article does not specify who Trump is replacing as president, but it is implied that he is succeeding President Biden, as it mentions that Trump has been selecting cabinet members and making announcements about his administration.\n",
            "According to the article, President-elect Donald Trump has selected a list of top executives for key positions in his administration, including:\n",
            "\n",
            "* Paul Atkins, a pro-crypto figure, for the US Securities and Exchange Commission (SEC)\n",
            "* Brian Brooks, a pro-crypto figure, for another key position (no specific title mentioned)\n",
            "* Scott Bessent, founder of Key Square\n",
            "The article does not mention what President-elect Donald Trump said in the conference. In fact, it does not provide any information about the contents of the conference at all, only mentioning that it was a \"recent\" event after Trump's presidential victory.\n"
          ]
        }
      ]
    },
    {
      "cell_type": "code",
      "source": [
        "rouge_scores_3 = rouge.compute(predictions=outputs_3, references=labels_3)\n",
        "\n",
        "print(\"ROUGE Scores:\")\n",
        "for key, value in rouge_scores_3.items():\n",
        "    print(f\"{key}: {value:.4f}\")"
      ],
      "metadata": {
        "colab": {
          "base_uri": "https://localhost:8080/"
        },
        "id": "eb8R5J9WmsuD",
        "outputId": "66088dba-7174-453d-d7a4-b61e8b5fe39f"
      },
      "execution_count": 86,
      "outputs": [
        {
          "output_type": "stream",
          "name": "stdout",
          "text": [
            "ROUGE Scores:\n",
            "rouge1: 0.2802\n",
            "rouge2: 0.1702\n",
            "rougeL: 0.2498\n",
            "rougeLsum: 0.2481\n"
          ]
        }
      ]
    },
    {
      "cell_type": "code",
      "source": [
        "queries_4 = ['Why have drones been in the headlines',\n",
        "             'Were they deployed by the US military',\n",
        "             'Are they a threat']\n",
        "outputs_4 = []\n",
        "labels_4 = ['There have been sightings of mysterious drones flying over New Jersey at night. There is no evidence of malicious activity or foreign involvement.',\n",
        "            'No they are not military drones.',\n",
        "            'The drones are not a threat to public safety or national security. Most of the sightings are misidentified legal aircraft and stars.']\n",
        "\n",
        "model_4 = DualRagModel(logging='quiet')\n",
        "\n",
        "for query in queries_4:\n",
        "    outputs_4.append(model_4.generate_response(query))"
      ],
      "metadata": {
        "colab": {
          "base_uri": "https://localhost:8080/"
        },
        "id": "l8WP5VK6nWXH",
        "outputId": "6cd4a164-8b43-41d2-c633-179803d45a73"
      },
      "execution_count": 87,
      "outputs": [
        {
          "output_type": "stream",
          "name": "stderr",
          "text": [
            "WARNING:langchain_community.vectorstores.faiss:`embedding_function` is expected to be an Embeddings object, support for passing in a function will soon be removed.\n",
            "WARNING:langchain_community.vectorstores.faiss:`embedding_function` is expected to be an Embeddings object, support for passing in a function will soon be removed.\n"
          ]
        },
        {
          "output_type": "stream",
          "name": "stdout",
          "text": [
            "Knowledge database updated successfully!\n",
            "User-specific memory updated successfully!\n",
            "Knowledge database updated successfully!\n",
            "User-specific memory updated successfully!\n",
            "Knowledge database updated successfully!\n",
            "User-specific memory updated successfully!\n"
          ]
        }
      ]
    },
    {
      "cell_type": "code",
      "source": [
        "for output in outputs_4:\n",
        "    print(output)"
      ],
      "metadata": {
        "colab": {
          "base_uri": "https://localhost:8080/"
        },
        "id": "VAaYRAPkVYcn",
        "outputId": "a1a9b597-fe82-441e-d3e5-ca9d05e05e38"
      },
      "execution_count": 98,
      "outputs": [
        {
          "output_type": "stream",
          "name": "stdout",
          "text": [
            "According to the text, drones have been in the headlines because of recent sightings in New Jersey and neighboring states, which have been attributed to misidentified legal aircraft and stars, posing no threat to safety. The incidents have led to a surge in public speculation and conspiracy theories, prompting politicians to demand clarity and action from federal authorities.\n",
            "No, the information in the text does not suggest that the North Korean troops were deployed by the US military. According to the text, the North Korean troops were sent to support Russia's war efforts in Ukraine, and were reported to be fighting alongside Russian forces in the Kursk region. There is no mention of the US military deploying the North Korean troops.\n",
            "According to the text, the Federal agencies, including the Department of Homeland Security and the FBI, have concluded that recent drone sightings over New Jersey and surrounding states are likely misidentified legal aircraft and stars, posing no threat to public safety.\n"
          ]
        }
      ]
    },
    {
      "cell_type": "code",
      "source": [
        "rouge_scores_4 = rouge.compute(predictions=outputs_4, references=labels_4)\n",
        "\n",
        "print(\"ROUGE Scores:\")\n",
        "for key, value in rouge_scores_4.items():\n",
        "    print(f\"{key}: {value:.4f}\")"
      ],
      "metadata": {
        "colab": {
          "base_uri": "https://localhost:8080/"
        },
        "id": "17vXO8j_m62B",
        "outputId": "30f5bca4-fecb-4362-92d5-1e5af541a4f2"
      },
      "execution_count": 88,
      "outputs": [
        {
          "output_type": "stream",
          "name": "stdout",
          "text": [
            "ROUGE Scores:\n",
            "rouge1: 0.2531\n",
            "rouge2: 0.0934\n",
            "rougeL: 0.1838\n",
            "rougeLsum: 0.1838\n"
          ]
        }
      ]
    },
    {
      "cell_type": "code",
      "source": [
        "rouge_scores = [rouge_scores_1, rouge_scores_2, rouge_scores_3, rouge_scores_4]\n",
        "\n",
        "keys = ['rouge1', 'rouge2', 'rougeL', 'rougeLsum']\n",
        "values = {key: [d[key] for d in rouge_scores] for key in keys}\n",
        "\n",
        "topics = ['UHC CEO', 'SK Pres.', 'Trump Conf.', 'NJ Drones']\n",
        "\n",
        "x = np.arange(len(rouge_scores))\n",
        "bar_width = 0.4\n",
        "\n",
        "colors = ['red', 'blue', 'green', 'orange']\n",
        "\n",
        "fig, axes = plt.subplots(2, 2, figsize=(12, 8))\n",
        "axes = axes.flatten()\n",
        "\n",
        "x = np.arange(len(rouge_scores))\n",
        "\n",
        "for i, key in enumerate(keys):\n",
        "    ax = axes[i]\n",
        "    for j in range(len(rouge_scores)):\n",
        "        ax.bar(\n",
        "            x[j],\n",
        "            values[key][j],\n",
        "            color=colors[j],\n",
        "            width=0.6,\n",
        "            label=f'Set {j+1}' if i == 0 else \"\"\n",
        "        )\n",
        "    ax.set_title(f'{key.upper()} Scores', fontsize=14)\n",
        "    ax.set_xticks(x)\n",
        "    ax.set_xticklabels([topic for topic in topics])\n",
        "    ax.set_ylim(0, 0.5)\n",
        "    ax.grid(axis='y', linestyle='--', alpha=0.7)\n",
        "    if i == 3:\n",
        "        ax.legend(loc='upper left', bbox_to_anchor=(1, 1))\n",
        "\n",
        "plt.tight_layout()\n",
        "plt.show()"
      ],
      "metadata": {
        "id": "_1eg91NNx4Tw",
        "colab": {
          "base_uri": "https://localhost:8080/",
          "height": 845
        },
        "outputId": "7d17e539-f7e1-463f-ce39-75d82f255e75"
      },
      "execution_count": 93,
      "outputs": [
        {
          "output_type": "stream",
          "name": "stderr",
          "text": [
            "WARNING:matplotlib.legend:No artists with labels found to put in legend.  Note that artists whose label start with an underscore are ignored when legend() is called with no argument.\n"
          ]
        },
        {
          "output_type": "display_data",
          "data": {
            "text/plain": [
              "<Figure size 1200x800 with 4 Axes>"
            ],
            "image/png": "[encoded data removed]"
          },
          "metadata": {}
        }
      ]
    },
    {
      "cell_type": "markdown",
      "source": [
        "### Double Topic Conversations"
      ],
      "metadata": {
        "id": "yPXHFGAAUNHM"
      }
    },
    {
      "cell_type": "code",
      "source": [
        "queries_5 = [\"Who shot the UHC CEO?\",\n",
        "             \"Where was he shot?\",\n",
        "             \"Where was the suspect found?\",\n",
        "             \"How did people react?\",\n",
        "             'When was President Yoon impeached',\n",
        "             'Who impeached him',\n",
        "             'Why was he impeached',\n",
        "             'What was the public’s reaction']\n",
        "outputs_5 = []\n",
        "labels_5 = [\"Luigi Mangione, a 26 year old Ivy League graduate, shot Brian Thompson, the CEO of UnitedHealthcare\",\n",
        "            \"Brian Thompson was shot in New York City in Midtown Manhattan outside of the Hilton hotel\",\n",
        "            \"Luigi Mangione was found at a McDonald's restaurant in Altoona, Pennsylvania with a fake ID, firearm, and manifesto after being recognized\",\n",
        "            \"People reacted with dark humor, critical commentary, sharing memes, jokes, and personal stories, criticism of the healthcare system, and anger and outrage towards health insurers\",\n",
        "            'President Yoon Suk Yeol was impeached on December 14, 2024.',\n",
        "            'South Korean lawmakers in the National Assembly impeached President Yoon Suk Yeol.',\n",
        "            'President Yoon Suk Yeol was impeached due to his declaration of martial law.',\n",
        "            'There were widespread protests. Thousands of protestors celebrated the result of the impeachment vote and viewed it as a victory for democracy.']\n",
        "\n",
        "model_5 = DualRagModel(logging='quiet')\n",
        "\n",
        "for query in queries_5:\n",
        "    outputs_5.append(model_5.generate_response(query))"
      ],
      "metadata": {
        "colab": {
          "base_uri": "https://localhost:8080/"
        },
        "id": "qOQnvmYfS5lX",
        "outputId": "7ca9335b-0f01-42b8-865d-77387a4fa4f4"
      },
      "execution_count": 11,
      "outputs": [
        {
          "output_type": "stream",
          "name": "stderr",
          "text": [
            "WARNING:langchain_community.vectorstores.faiss:`embedding_function` is expected to be an Embeddings object, support for passing in a function will soon be removed.\n",
            "WARNING:langchain_community.vectorstores.faiss:`embedding_function` is expected to be an Embeddings object, support for passing in a function will soon be removed.\n"
          ]
        },
        {
          "output_type": "stream",
          "name": "stdout",
          "text": [
            "Knowledge database updated successfully!\n",
            "User-specific memory updated successfully!\n",
            "Knowledge database updated successfully!\n",
            "User-specific memory updated successfully!\n",
            "Knowledge database updated successfully!\n",
            "User-specific memory updated successfully!\n",
            "Knowledge database updated successfully!\n",
            "User-specific memory updated successfully!\n",
            "Knowledge database updated successfully!\n",
            "User-specific memory updated successfully!\n",
            "Knowledge database updated successfully!\n",
            "User-specific memory updated successfully!\n",
            "Knowledge database updated successfully!\n",
            "User-specific memory updated successfully!\n",
            "Knowledge database updated successfully!\n",
            "User-specific memory updated successfully!\n"
          ]
        }
      ]
    },
    {
      "cell_type": "code",
      "source": [
        "for output in outputs_5:\n",
        "    print(output)"
      ],
      "metadata": {
        "colab": {
          "base_uri": "https://localhost:8080/"
        },
        "id": "krpn8bKjVg_R",
        "outputId": "e33209ce-ef12-47c8-8c1a-10873b6d8b55"
      },
      "execution_count": 12,
      "outputs": [
        {
          "output_type": "stream",
          "name": "stdout",
          "text": [
            "According to the text, Luigi Mangione is suspected of shooting Brian Thompson, the CEO of UnitedHealthcare.\n",
            "According to the text, Brian Thompson, the CEO of UnitedHealthcare, was shot multiple times outside the New York Hilton Midtown on December 4.\n",
            "According to the text, Luigi Mangione, the suspected murderer, was arrested at a McDonald's in Altoona, Pennsylvania.\n",
            "According to the article, people's reactions to the murder of Brian Thompson and the subsequent arrest of Luigi Mangione were varied and complex. Some themes and reactions that emerged include:\n",
            "\n",
            "* Some people, including supporters of Mangione, expressed admiration for him and criticized the healthcare system, seeing him as a \"folk hero\" or a \"vigilante\" who took action against a\n",
            "The article does not specify the date when President Yoon was impeached. It only mentions that the impeachment motion passed, and that the constitutional court has 180 days to decide on the impeachment, which could lead to new presidential elections if upheld.\n",
            "According to the article, President Yoon Suk Yeol was impeached by South Korea's parliament, specifically the National Assembly, which voted 204-85 to suspend Yoon's presidential powers and transfer authority to Prime Minister Han Duck-soo.\n",
            "According to the article, President Yoon Suk Yeol was impeached due to his brief imposition of martial law on December 3, which sparked protests and calls for his resignation.\n",
            "According to the article, the public's reaction to the murder of Brian Thompson and the arrest of Luigi Mangione was complex and varied. Some people, including supporters of Mangione, expressed admiration for him and criticized the healthcare system, seeing him as a \"folk hero\" or a \"vigilante\" who took action against a system they perceived as corrupt and greedy. Many\n"
          ]
        }
      ]
    },
    {
      "cell_type": "code",
      "source": [
        "rouge_scores_5 = rouge.compute(predictions=outputs_5, references=labels_5)\n",
        "\n",
        "print(\"ROUGE Scores:\")\n",
        "for key, value in rouge_scores_5.items():\n",
        "    print(f\"{key}: {value:.4f}\")"
      ],
      "metadata": {
        "colab": {
          "base_uri": "https://localhost:8080/"
        },
        "id": "Egv10BkzUiin",
        "outputId": "7128ee12-b10c-4f8f-e4a9-243b1f1dc440"
      },
      "execution_count": 13,
      "outputs": [
        {
          "output_type": "stream",
          "name": "stdout",
          "text": [
            "ROUGE Scores:\n",
            "rouge1: 0.3834\n",
            "rouge2: 0.2172\n",
            "rougeL: 0.3256\n",
            "rougeLsum: 0.3369\n"
          ]
        }
      ]
    },
    {
      "cell_type": "code",
      "source": [
        "queries_6 = ['When was President Yoon impeached',\n",
        "             'Who impeached him',\n",
        "             'Why was he impeached',\n",
        "             'What was the public’s reaction',\n",
        "             'When was Trump’s first conference after the election held',\n",
        "             'Who did he nominate as attorney general',\n",
        "             'Who did he nominate for Secretary of State',\n",
        "             'Who is he replacing as president',\n",
        "             'What top executives has he met with or will meet',\n",
        "             'What did he say in the conference']\n",
        "outputs_6 = []\n",
        "labels_6 = ['President Yoon Suk Yeol was impeached on December 14, 2024.',\n",
        "            'South Korean lawmakers in the National Assembly impeached President Yoon Suk Yeol.',\n",
        "            'President Yoon Suk Yeol was impeached due to his declaration of martial law.',\n",
        "            'There were widespread protests. Thousands of protestors celebrated the result of the impeachment vote and viewed it as a victory for democracy.',\n",
        "            'Donald Trump’s first press conference after the election was held at Mar-a-Lago.',\n",
        "            'Donald Trump nominated Pam Bondi for attorney general.',\n",
        "            'Donald Trump nominated Marco Rubio for Secretary of State.',\n",
        "            'Donald Trump is replacing Joe Biden as president.',\n",
        "            'Donald Trump will meet with Mark Zuckerburg, Tim Cook, Sundar Pichai, and Jeff Bezos.',\n",
        "            \"He discussed SoftBank's $100 billion investment plan in U.S. projects, the Ukraine war, border wall construction and potential legal action, New York Mayor Eric Adams' legal troubles, his transition process and meetings with business leaders, and drones in New Jersey.\"]\n",
        "\n",
        "model_6 = DualRagModel(logging='quiet')\n",
        "\n",
        "for query in queries_6:\n",
        "    outputs_6.append(model_6.generate_response(query))"
      ],
      "metadata": {
        "colab": {
          "base_uri": "https://localhost:8080/"
        },
        "id": "oXxcMj8wVJ2g",
        "outputId": "577402c6-3ce3-4945-df88-25e5811d1bcd"
      },
      "execution_count": 14,
      "outputs": [
        {
          "output_type": "stream",
          "name": "stderr",
          "text": [
            "WARNING:langchain_community.vectorstores.faiss:`embedding_function` is expected to be an Embeddings object, support for passing in a function will soon be removed.\n",
            "WARNING:langchain_community.vectorstores.faiss:`embedding_function` is expected to be an Embeddings object, support for passing in a function will soon be removed.\n"
          ]
        },
        {
          "output_type": "stream",
          "name": "stdout",
          "text": [
            "Knowledge database updated successfully!\n",
            "User-specific memory updated successfully!\n",
            "Knowledge database updated successfully!\n",
            "User-specific memory updated successfully!\n",
            "User-specific memory updated successfully!\n",
            "Knowledge database updated successfully!\n",
            "User-specific memory updated successfully!\n",
            "Knowledge database updated successfully!\n",
            "User-specific memory updated successfully!\n",
            "Knowledge database updated successfully!\n",
            "User-specific memory updated successfully!\n",
            "Knowledge database updated successfully!\n",
            "User-specific memory updated successfully!\n",
            "Knowledge database updated successfully!\n",
            "User-specific memory updated successfully!\n",
            "Knowledge database updated successfully!\n",
            "User-specific memory updated successfully!\n",
            "Knowledge database updated successfully!\n",
            "User-specific memory updated successfully!\n"
          ]
        }
      ]
    },
    {
      "cell_type": "code",
      "source": [
        "for output in outputs_6:\n",
        "    print(output)"
      ],
      "metadata": {
        "colab": {
          "base_uri": "https://localhost:8080/"
        },
        "id": "PaLvtUybW4lW",
        "outputId": "4b9a2295-bdd0-4cd7-be35-a50d20594479"
      },
      "execution_count": 15,
      "outputs": [
        {
          "output_type": "stream",
          "name": "stdout",
          "text": [
            "According to the context, President Yoon Suk Yeol's impeachment was supported by some members of his own People Power Party (PPP), and the motion to pass with 204 votes in favor.\n",
            "According to the context, President Yoon Suk Yeol was impeached by the South Korean lawmakers.\n",
            "According to the context, President Yoon Suk Yeol was impeached due to his attempt to impose martial law, which sparked widespread protests and was opposed by both his own ruling party and the opposition party, the Democratic Party.\n",
            "According to the context, the public's reaction was overwhelmingly against President Yoon Suk Yeol. The passage states that \"public sentiment largely favors the impeachment\" and that \"three-quarters of South Koreans support his ousting.\" Additionally, there were thousands of anti-Yoon demonstrators celebrating outside the National Assembly after the impeachment vote, expressing their desire for his removal.\n",
            "The context does not mention Trump's first conference after the election, but rather a \"Harvard Campaign Managers Conference\" where Team Trump prepared for the presidential transition after the election. So, it seems that this conference was likely held after the election, but the exact date is not specified.\n",
            "According to the article, President-elect Donald Trump initially nominated Matt Gaetz for Attorney General, but Gaetz withdrew his nomination due to controversy surrounding allegations of sexual misconduct and drug use. After Gaetz's withdrawal, Trump nominated Pam Bondi, a veteran prosecutor and former Florida attorney general, to replace Gaetz as his nominee for Attorney General.\n",
            "According to the article, President-elect Donald Trump nominated Marco Rubio for Secretary of State.\n",
            "The article does not mention who President-elect Donald Trump is replacing as President. The article only discusses Trump's cabinet nominees and appointments, and it does not provide information about who he is succeeding as President.\n",
            "Based on the provided context, it is not explicitly mentioned that President-elect Donald Trump has met with or will meet any specific top executives. The article focuses on his Cabinet nominations and appointments, as well as his administration's plans and policies, but does not provide information about any specific meetings with top executives.\n",
            "According to the provided context, President Trump announced at a press conference in Florida that:\n",
            "\n",
            "* He is receiving significant support from business executives, who are eager to meet with him.\n",
            "* He highlighted a recent $100 billion investment commitment from SoftBank following discussions with CEO Masayoshi Son.\n",
            "* He has held meetings with several tech leaders, including Mark Zuckerberg, Sundar Pich\n"
          ]
        }
      ]
    },
    {
      "cell_type": "code",
      "source": [
        "rouge_scores_6 = rouge.compute(predictions=outputs_6, references=labels_6)\n",
        "\n",
        "print(\"ROUGE Scores:\")\n",
        "for key, value in rouge_scores_6.items():\n",
        "    print(f\"{key}: {value:.4f}\")"
      ],
      "metadata": {
        "colab": {
          "base_uri": "https://localhost:8080/"
        },
        "id": "st4IfhnxZhcG",
        "outputId": "fb13870d-521f-4342-924b-729843003446"
      },
      "execution_count": 16,
      "outputs": [
        {
          "output_type": "stream",
          "name": "stdout",
          "text": [
            "ROUGE Scores:\n",
            "rouge1: 0.3571\n",
            "rouge2: 0.2349\n",
            "rougeL: 0.3066\n",
            "rougeLsum: 0.3084\n"
          ]
        }
      ]
    },
    {
      "cell_type": "code",
      "source": [
        "queries_7 = ['When was Trump’s first conference after the election held',\n",
        "             'Who did he nominate as attorney general',\n",
        "             'Who did he nominate for Secretary of State',\n",
        "             'Who is he replacing as president',\n",
        "             'What top executives has he met with or will meet',\n",
        "             'What did he say in the conference',\n",
        "             'Why have drones been in the headlines',\n",
        "             'Were they deployed by the US military',\n",
        "             'Are they a threat']\n",
        "outputs_7 = []\n",
        "labels_7 = ['Donald Trump’s first press conference after the election was held at Mar-a-Lago.',\n",
        "            'Donald Trump nominated Pam Bondi for attorney general.',\n",
        "            'Donald Trump nominated Marco Rubio for Secretary of State.',\n",
        "            'Donald Trump is replacing Joe Biden as president.',\n",
        "            'Donald Trump will meet with Mark Zuckerburg, Tim Cook, Sundar Pichai, and Jeff Bezos.',\n",
        "            \"He discussed SoftBank's $100 billion investment plan in U.S. projects, the Ukraine war, border wall construction and potential legal action, New York Mayor Eric Adams' legal troubles, his transition process and meetings with business leaders, and drones in New Jersey.\",\n",
        "            'There have been sightings of mysterious drones flying over New Jersey at night. There is no evidence of malicious activity or foreign involvement.',\n",
        "            'No they are not military drones.',\n",
        "            'The drones are not a threat to public safety or national security. Most of the sightings are misidentified legal aircraft and stars.']\n",
        "\n",
        "model_7 = DualRagModel(logging='quiet')\n",
        "\n",
        "for query in queries_7:\n",
        "    outputs_7.append(model_7.generate_response(query))"
      ],
      "metadata": {
        "colab": {
          "base_uri": "https://localhost:8080/"
        },
        "id": "xAC1S4iuZlk7",
        "outputId": "cbde2dca-fd4a-45ae-c3ec-cdb3b29aa081"
      },
      "execution_count": 17,
      "outputs": [
        {
          "output_type": "stream",
          "name": "stderr",
          "text": [
            "WARNING:langchain_community.vectorstores.faiss:`embedding_function` is expected to be an Embeddings object, support for passing in a function will soon be removed.\n",
            "WARNING:langchain_community.vectorstores.faiss:`embedding_function` is expected to be an Embeddings object, support for passing in a function will soon be removed.\n"
          ]
        },
        {
          "output_type": "stream",
          "name": "stdout",
          "text": [
            "Knowledge database updated successfully!\n",
            "User-specific memory updated successfully!\n",
            "Knowledge database updated successfully!\n",
            "User-specific memory updated successfully!\n",
            "Knowledge database updated successfully!\n",
            "User-specific memory updated successfully!\n",
            "Knowledge database updated successfully!\n",
            "User-specific memory updated successfully!\n",
            "Knowledge database updated successfully!\n",
            "User-specific memory updated successfully!\n",
            "Knowledge database updated successfully!\n",
            "User-specific memory updated successfully!\n",
            "Knowledge database updated successfully!\n",
            "User-specific memory updated successfully!\n",
            "Knowledge database updated successfully!\n",
            "User-specific memory updated successfully!\n",
            "Knowledge database updated successfully!\n",
            "User-specific memory updated successfully!\n"
          ]
        }
      ]
    },
    {
      "cell_type": "code",
      "source": [
        "for output in outputs_7:\n",
        "    print(output)"
      ],
      "metadata": {
        "colab": {
          "base_uri": "https://localhost:8080/"
        },
        "id": "QvPCODF7Z0hS",
        "outputId": "ce445f2b-01bf-44d3-e98d-b6a23405e21e"
      },
      "execution_count": 18,
      "outputs": [
        {
          "output_type": "stream",
          "name": "stdout",
          "text": [
            "The article does not mention a specific conference held by Trump after the election. It actually talks about the \"Harvard's Campaign Managers Conference\" where Trump's campaign aides mocked the performance of Kamala Harris and Joe Biden's team after their electoral defeat.\n",
            "According to the article, Donald Trump initially nominated Matt Gaetz as attorney general, but later withdrew the nomination due to controversy surrounding allegations against Gaetz. Trump then nominated Pam Bondi, former Florida Attorney General, as his new nominee for attorney general.\n",
            "According to the article, Donald Trump nominated Marco Rubio as Secretary of State.\n",
            "According to the article, it is not mentioned who Donald Trump is replacing as President. The context of the article suggests that Trump is planning for his second term as President, not replacing a sitting President.\n",
            "The article does not mention Donald Trump meeting with or planning to meet specific top executives.\n",
            "According to the article, Apple CEO Tim Cook said: \"We couldn't do what we do without them\" during his visit to China, emphasizing the importance of Chinese partners in Apple's operations.\n",
            "Drones have been in the headlines because of recent sightings of unknown drone-like objects over the East Coast, including New Jersey, which have sparked concerns and speculation among the public. President Biden has addressed the issue, stating that while there have been over 5,000 reported sightings, most of which can be attributed to misidentified lawful aircraft or stars, there is no evidence of\n",
            "According to the text, no, the drones were not deployed by the US military. In fact, the US Air Force has stated that the drones are not considered to be hostile and are not of US origin. The UK Ministry of Defence has also confirmed that British military personnel have been deployed to assist with the investigation, but there is no indication that the drones were deployed by the\n",
            "Based on the information provided, it appears that the drones are not considered to be a threat to public safety or national security at this time. The FBI and Department of Homeland Security have investigated the sightings and found no evidence of threats or malicious activity. While some officials have expressed concerns about the potential for the drones to be used for nefarious purposes, such as espionage or interference with\n"
          ]
        }
      ]
    },
    {
      "cell_type": "code",
      "source": [
        "rouge_scores_7 = rouge.compute(predictions=outputs_7, references=labels_7)\n",
        "\n",
        "print(\"ROUGE Scores:\")\n",
        "for key, value in rouge_scores_7.items():\n",
        "    print(f\"{key}: {value:.4f}\")"
      ],
      "metadata": {
        "colab": {
          "base_uri": "https://localhost:8080/"
        },
        "id": "CZ_1o9wFZ1Tv",
        "outputId": "eb275b07-932f-4572-c96a-f0d5af673d28"
      },
      "execution_count": 19,
      "outputs": [
        {
          "output_type": "stream",
          "name": "stdout",
          "text": [
            "ROUGE Scores:\n",
            "rouge1: 0.3097\n",
            "rouge2: 0.1762\n",
            "rougeL: 0.2722\n",
            "rougeLsum: 0.2716\n"
          ]
        }
      ]
    },
    {
      "cell_type": "code",
      "source": [
        "queries_8 = ['Why have drones been in the headlines',\n",
        "             'Were they deployed by the US military',\n",
        "             'Are they a threat',\n",
        "             \"Who shot the UHC CEO?\",\n",
        "             \"Where was he shot?\",\n",
        "             \"Where was the suspect found?\",\n",
        "             \"How did people react?\"]\n",
        "outputs_8 = []\n",
        "labels_8 = ['There have been sightings of mysterious drones flying over New Jersey at night. There is no evidence of malicious activity or foreign involvement.',\n",
        "            'No they are not military drones.',\n",
        "            'The drones are not a threat to public safety or national security. Most of the sightings are misidentified legal aircraft and stars.',\n",
        "            \"Luigi Mangione, a 26 year old Ivy League graduate, shot Brian Thompson, the CEO of UnitedHealthcare\",\n",
        "            \"Brian Thompson was shot in New York City in Midtown Manhattan outside of the Hilton hotel\",\n",
        "            \"Luigi Mangione was found at a McDonald's restaurant in Altoona, Pennsylvania with a fake ID, firearm, and manifesto after being recognized\",\n",
        "            \"People reacted with dark humor, critical commentary, sharing memes, jokes, and personal stories, criticism of the healthcare system, and anger and outrage towards health insurers\"]\n",
        "\n",
        "model_8 = DualRagModel(logging='quiet')\n",
        "\n",
        "for query in queries_8:\n",
        "    outputs_8.append(model_8.generate_response(query))"
      ],
      "metadata": {
        "colab": {
          "base_uri": "https://localhost:8080/"
        },
        "id": "0YG3-GXrZ4vc",
        "outputId": "4c342cbc-7f24-48f1-9a4c-445327ceb06e"
      },
      "execution_count": 20,
      "outputs": [
        {
          "output_type": "stream",
          "name": "stderr",
          "text": [
            "WARNING:langchain_community.vectorstores.faiss:`embedding_function` is expected to be an Embeddings object, support for passing in a function will soon be removed.\n",
            "WARNING:langchain_community.vectorstores.faiss:`embedding_function` is expected to be an Embeddings object, support for passing in a function will soon be removed.\n"
          ]
        },
        {
          "output_type": "stream",
          "name": "stdout",
          "text": [
            "Knowledge database updated successfully!\n",
            "User-specific memory updated successfully!\n",
            "Knowledge database updated successfully!\n",
            "User-specific memory updated successfully!\n",
            "Knowledge database updated successfully!\n",
            "User-specific memory updated successfully!\n",
            "Knowledge database updated successfully!\n",
            "User-specific memory updated successfully!\n",
            "Knowledge database updated successfully!\n",
            "User-specific memory updated successfully!\n",
            "Knowledge database updated successfully!\n",
            "User-specific memory updated successfully!\n",
            "Knowledge database updated successfully!\n",
            "User-specific memory updated successfully!\n"
          ]
        }
      ]
    },
    {
      "cell_type": "code",
      "source": [
        "for output in outputs_8:\n",
        "    print(output)"
      ],
      "metadata": {
        "colab": {
          "base_uri": "https://localhost:8080/"
        },
        "id": "mNaaFvczaGPi",
        "outputId": "86608a5a-113d-4cc4-ef50-d2a767352ca3"
      },
      "execution_count": 21,
      "outputs": [
        {
          "output_type": "stream",
          "name": "stdout",
          "text": [
            "Drones have been in the headlines due to recent sightings over the East Coast, specifically in New Jersey and surrounding states, which have sparked widespread speculation, conspiracy theories, and public concern. While the government has downplayed the threat, citing most sightings as benign and involving commercial or hobbyist drones, the situation has prompted calls for increased transparency and legislative action from state officials. The\n",
            "No, the North Korean soldiers were not deployed by the US military. According to the text, they were deployed by Russia to support its war effort in Ukraine. Specifically, it is reported that North Korea sent approximately 10,000 troops to support Russia's war effort, and later, as many as 12,000 North Korean troops have already been deployed, with potential numbers\n",
            "According to the text, the government and law enforcement agencies have concluded that the drones do not pose a national security risk or malicious activity, and that most sightings are benign and involve commercial or hobbyist drones. Specifically:\n",
            "\n",
            "* The federal agencies, including the DHS and FBI, stated that the sightings primarily involve lawful commercial and hobbyist drones, with no evidence of malicious activity or foreign\n",
            "According to the text, Luigi Mangione is the suspect who shot and killed UnitedHealthcare CEO Brian Thompson.\n",
            "According to the text, UnitedHealthcare CEO Brian Thompson was shot and killed outside the New York Hilton Midtown in Manhattan.\n",
            "According to the text, Luigi Mangione, the suspected killer of UnitedHealthcare CEO Brian Thompson, was arrested at a McDonald's in Altoona, Pennsylvania.\n",
            "According to the article, people reacted to the murder of UnitedHealthcare CEO Brian Thompson in different ways. Some:\n",
            "\n",
            "1. Praised the shooter, Luigi Mangione, as a folk hero due to his alleged grievances against the healthcare industry, leading to the emergence of a lookalike contest in Washington Square Park.\n",
            "2. Created pro-Mangione merchandise and used hashtags like\n"
          ]
        }
      ]
    },
    {
      "cell_type": "code",
      "source": [
        "rouge_scores_8 = rouge.compute(predictions=outputs_8, references=labels_8)\n",
        "\n",
        "print(\"ROUGE Scores:\")\n",
        "for key, value in rouge_scores_8.items():\n",
        "    print(f\"{key}: {value:.4f}\")"
      ],
      "metadata": {
        "colab": {
          "base_uri": "https://localhost:8080/"
        },
        "id": "dMhkfMb7aJI7",
        "outputId": "a0d07932-6716-4fdc-ccfe-8f516ff96b0b"
      },
      "execution_count": 22,
      "outputs": [
        {
          "output_type": "stream",
          "name": "stdout",
          "text": [
            "ROUGE Scores:\n",
            "rouge1: 0.3375\n",
            "rouge2: 0.1187\n",
            "rougeL: 0.2592\n",
            "rougeLsum: 0.2601\n"
          ]
        }
      ]
    },
    {
      "cell_type": "code",
      "source": [
        "rouge_scores = [rouge_scores_5, rouge_scores_6, rouge_scores_7, rouge_scores_8]\n",
        "\n",
        "keys = ['rouge1', 'rouge2', 'rougeL', 'rougeLsum']\n",
        "values = {key: [d[key] for d in rouge_scores] for key in keys}\n",
        "\n",
        "topics = ['UHC CEO \\n+ SK Pres.', 'SK Pres. \\n+ Trump Conf.', 'Trump Conf. \\n+ NJ Drones', 'NJ Drones \\n+ UHC CEO']\n",
        "\n",
        "x = np.arange(len(rouge_scores))\n",
        "bar_width = 0.4\n",
        "\n",
        "colors = ['red', 'blue', 'green', 'orange']\n",
        "\n",
        "fig, axes = plt.subplots(2, 2, figsize=(12, 8))\n",
        "axes = axes.flatten()\n",
        "\n",
        "x = np.arange(len(rouge_scores))\n",
        "\n",
        "for i, key in enumerate(keys):\n",
        "    ax = axes[i]\n",
        "    for j in range(len(rouge_scores)):\n",
        "        ax.bar(\n",
        "            x[j],\n",
        "            values[key][j],\n",
        "            color=colors[j],\n",
        "            width=0.6,\n",
        "            label=f'Set {j+1}' if i == 0 else \"\"\n",
        "        )\n",
        "    ax.set_title(f'{key.upper()} Scores', fontsize=14)\n",
        "    ax.set_xticks(x)\n",
        "    ax.set_xticklabels([topic for topic in topics])\n",
        "    ax.set_ylim(0, 0.5)\n",
        "    ax.grid(axis='y', linestyle='--', alpha=0.7)\n",
        "    if i == 3:\n",
        "        ax.legend(loc='upper left', bbox_to_anchor=(1, 1))\n",
        "\n",
        "plt.tight_layout()\n",
        "plt.show()"
      ],
      "metadata": {
        "colab": {
          "base_uri": "https://localhost:8080/",
          "height": 681
        },
        "id": "cTq8xlGFGdDb",
        "outputId": "ac3e7e64-70d5-4960-f18c-ee89fa933afa"
      },
      "execution_count": 25,
      "outputs": [
        {
          "output_type": "stream",
          "name": "stderr",
          "text": [
            "WARNING:matplotlib.legend:No artists with labels found to put in legend.  Note that artists whose label start with an underscore are ignored when legend() is called with no argument.\n"
          ]
        },
        {
          "output_type": "display_data",
          "data": {
            "text/plain": [
              "<Figure size 1200x800 with 4 Axes>"
            ],
            "image/png": "[encoded data removed]"
          },
          "metadata": {}
        }
      ]
    },
    {
      "cell_type": "markdown",
      "source": [
        "## GPT"
      ],
      "metadata": {
        "id": "tKCqiqcnIYdw"
      }
    },
    {
      "cell_type": "markdown",
      "source": [
        "### Single Topic Conversations"
      ],
      "metadata": {
        "id": "G6ZZWdk_MFMZ"
      }
    },
    {
      "cell_type": "code",
      "source": [
        "queries_1 = [\"Who shot the UHC CEO?\",\n",
        "             \"Where was he shot?\",\n",
        "             \"Where was the suspect found?\",\n",
        "             \"How did people react?\"]\n",
        "outputs_1 = []\n",
        "labels_1 = [\"Luigi Mangione, a 26 year old Ivy League graduate, shot Brian Thompson, the CEO of UnitedHealthcare\",\n",
        "            \"Brian Thompson was shot in New York City in Midtown Manhattan outside of the Hilton hotel\",\n",
        "            \"Luigi Mangione was found at a McDonald's restaurant in Altoona, Pennsylvania with a fake ID, firearm, and manifesto after being recognized\",\n",
        "            \"People reacted with dark humor, critical commentary, sharing memes, jokes, and personal stories, criticism of the healthcare system, and anger and outrage towards health insurers\"]\n",
        "\n",
        "model_1 = DualRagModel(logging='quiet', model='gpt')\n",
        "\n",
        "for query in queries_1:\n",
        "    outputs_1.append(model_1.generate_response(query))"
      ],
      "metadata": {
        "colab": {
          "base_uri": "https://localhost:8080/"
        },
        "id": "JioVCgWbIaOh",
        "outputId": "54c6ce66-7033-4c56-c31b-1c52054bcddc"
      },
      "execution_count": 29,
      "outputs": [
        {
          "output_type": "stream",
          "name": "stderr",
          "text": [
            "WARNING:langchain_community.vectorstores.faiss:`embedding_function` is expected to be an Embeddings object, support for passing in a function will soon be removed.\n",
            "WARNING:langchain_community.vectorstores.faiss:`embedding_function` is expected to be an Embeddings object, support for passing in a function will soon be removed.\n"
          ]
        },
        {
          "output_type": "stream",
          "name": "stdout",
          "text": [
            "Knowledge database updated successfully!\n",
            "User-specific memory updated successfully!\n",
            "Knowledge database updated successfully!\n",
            "User-specific memory updated successfully!\n",
            "Knowledge database updated successfully!\n",
            "User-specific memory updated successfully!\n",
            "Knowledge database updated successfully!\n",
            "User-specific memory updated successfully!\n"
          ]
        }
      ]
    },
    {
      "cell_type": "code",
      "source": [
        "for output in outputs_1:\n",
        "    print(output)"
      ],
      "metadata": {
        "colab": {
          "base_uri": "https://localhost:8080/"
        },
        "id": "5DGkS3w5I3QF",
        "outputId": "423a8158-82ad-4bdf-b219-00e8c0561d3e"
      },
      "execution_count": 30,
      "outputs": [
        {
          "output_type": "stream",
          "name": "stdout",
          "text": [
            "The UnitedHealthcare CEO, Brian Thompson, was shot by Luigi Mangione.\n",
            "Brian Thompson was shot outside a hotel in Manhattan, specifically the New York Hilton Midtown Hotel.\n",
            "The suspect, Luigi Mangione, was found at a McDonald's in Altoona, Pennsylvania.\n",
            "People reacted with a mix of dark humor and scathing commentary on social media, expressing widespread anger towards health insurers rather than offering condolences for Brian Thompson's murder. Many shared jokes and memes, indicating their frustration with the healthcare system. Reactions to UnitedHealthcare's statement included laughing emojis, reflecting a sense of \"karma\" for the company’s history of denying claims that many believe\n"
          ]
        }
      ]
    },
    {
      "cell_type": "code",
      "source": [
        "rouge_scores_1 = rouge.compute(predictions=outputs_1, references=labels_1)\n",
        "\n",
        "print(\"ROUGE Scores:\")\n",
        "for key, value in rouge_scores_1.items():\n",
        "    print(f\"{key}: {value:.4f}\")"
      ],
      "metadata": {
        "colab": {
          "base_uri": "https://localhost:8080/"
        },
        "id": "PY-KmlCaJKyO",
        "outputId": "551ca4b6-3779-46dc-eb42-bf470ad5c224"
      },
      "execution_count": 31,
      "outputs": [
        {
          "output_type": "stream",
          "name": "stdout",
          "text": [
            "ROUGE Scores:\n",
            "rouge1: 0.6141\n",
            "rouge2: 0.2902\n",
            "rougeL: 0.3973\n",
            "rougeLsum: 0.3973\n"
          ]
        }
      ]
    },
    {
      "cell_type": "code",
      "source": [
        "queries_2 = ['When was President Yoon impeached',\n",
        "             'Who impeached him',\n",
        "             'Why was he impeached',\n",
        "             'What was the public’s reaction']\n",
        "outputs_2 = []\n",
        "labels_2 = ['President Yoon Suk Yeol was impeached on December 14, 2024.',\n",
        "            'South Korean lawmakers in the National Assembly impeached President Yoon Suk Yeol.',\n",
        "            'President Yoon Suk Yeol was impeached due to his declaration of martial law.',\n",
        "            'There were widespread protests. Thousands of protestors celebrated the result of the impeachment vote and viewed it as a victory for democracy.']\n",
        "\n",
        "model_2 = DualRagModel(logging='quiet', model='gpt')\n",
        "\n",
        "for query in queries_2:\n",
        "    outputs_2.append(model_2.generate_response(query))"
      ],
      "metadata": {
        "colab": {
          "base_uri": "https://localhost:8080/"
        },
        "id": "G4wua6KzIusR",
        "outputId": "99b511e7-dfbe-4ebc-f7e6-e39837ff284e"
      },
      "execution_count": 33,
      "outputs": [
        {
          "output_type": "stream",
          "name": "stderr",
          "text": [
            "WARNING:langchain_community.vectorstores.faiss:`embedding_function` is expected to be an Embeddings object, support for passing in a function will soon be removed.\n",
            "WARNING:langchain_community.vectorstores.faiss:`embedding_function` is expected to be an Embeddings object, support for passing in a function will soon be removed.\n"
          ]
        },
        {
          "output_type": "stream",
          "name": "stdout",
          "text": [
            "Knowledge database updated successfully!\n",
            "User-specific memory updated successfully!\n",
            "Knowledge database updated successfully!\n",
            "User-specific memory updated successfully!\n",
            "Knowledge database updated successfully!\n",
            "User-specific memory updated successfully!\n",
            "Knowledge database updated successfully!\n",
            "User-specific memory updated successfully!\n"
          ]
        }
      ]
    },
    {
      "cell_type": "code",
      "source": [
        "for output in outputs_2:\n",
        "    print(output)"
      ],
      "metadata": {
        "colab": {
          "base_uri": "https://localhost:8080/"
        },
        "id": "9GeD5le-Iz2A",
        "outputId": "dad1feaf-9ff6-4066-a7e4-b36f9537f001"
      },
      "execution_count": 34,
      "outputs": [
        {
          "output_type": "stream",
          "name": "stdout",
          "text": [
            "President Yoon Suk Yeol was impeached by South Korean lawmakers on a date not explicitly mentioned in the provided context. However, it is implied that the impeachment occurred shortly after his controversial declaration of martial law, which he lifted within hours amid protests. For a specific date, further information outside of the provided context would be needed.\n",
            "President Yoon Suk Yeol was impeached by South Korea's National Assembly.\n",
            "President Yoon Suk Yeol was impeached primarily due to his controversial declaration of martial law, which was viewed as an overreach of power and sparked widespread protests. He issued the martial law decree in response to rising tensions, claiming it was necessary to preserve order and combat \"anti-state forces.\" However, the decree led to public outcry, accusations of rebellion, and a\n",
            "The public's reaction to President Yoon Suk Yeol's declaration of martial law was one of widespread protest and outrage. Many citizens expressed distrust in his leadership and demanded his resignation. Following the announcement of martial law, protests erupted in Seoul, with demonstrators calling for Yoon's impeachment and celebrating when the National Assembly voted to block the martial law. The atmosphere among protesters was\n"
          ]
        }
      ]
    },
    {
      "cell_type": "code",
      "source": [
        "rouge_scores_2 = rouge.compute(predictions=outputs_2, references=labels_2)\n",
        "\n",
        "print(\"ROUGE Scores:\")\n",
        "for key, value in rouge_scores_2.items():\n",
        "    print(f\"{key}: {value:.4f}\")"
      ],
      "metadata": {
        "colab": {
          "base_uri": "https://localhost:8080/"
        },
        "id": "QEdzceS6JVMY",
        "outputId": "9ba6dacd-39f6-4aaf-8bf2-a665cf211915"
      },
      "execution_count": 35,
      "outputs": [
        {
          "output_type": "stream",
          "name": "stdout",
          "text": [
            "ROUGE Scores:\n",
            "rouge1: 0.3567\n",
            "rouge2: 0.1979\n",
            "rougeL: 0.2506\n",
            "rougeLsum: 0.2506\n"
          ]
        }
      ]
    },
    {
      "cell_type": "code",
      "source": [
        "queries_3 = ['When was Trump’s first conference after the election held',\n",
        "             'Who did he nominate as attorney general',\n",
        "             'Who did he nominate for Secretary of State',\n",
        "             'Who is he replacing as president',\n",
        "             'What top executives has he met with or will meet',\n",
        "             'What did he say in the conference']\n",
        "outputs_3 = []\n",
        "labels_3 = ['Donald Trump’s first press conference after the election was held at Mar-a-Lago.',\n",
        "            'Donald Trump nominated Pam Bondi for attorney general.',\n",
        "            'Donald Trump nominated Marco Rubio for Secretary of State.',\n",
        "            'Donald Trump is replacing Joe Biden as president.',\n",
        "            'Donald Trump will meet with Mark Zuckerburg, Tim Cook, Sundar Pichai, and Jeff Bezos.',\n",
        "            \"He discussed SoftBank's $100 billion investment plan in U.S. projects, the Ukraine war, border wall construction and potential legal action, New York Mayor Eric Adams' legal troubles, his transition process and meetings with business leaders, and drones in New Jersey.\"]\n",
        "\n",
        "model_3 = DualRagModel(logging='quiet', model='gpt')\n",
        "\n",
        "for query in queries_3:\n",
        "    outputs_3.append(model_3.generate_response(query))"
      ],
      "metadata": {
        "colab": {
          "base_uri": "https://localhost:8080/"
        },
        "id": "S6irqHaZJYXT",
        "outputId": "d5618ace-9647-47bd-c273-7f31f7bd14c4"
      },
      "execution_count": 44,
      "outputs": [
        {
          "output_type": "stream",
          "name": "stderr",
          "text": [
            "WARNING:langchain_community.vectorstores.faiss:`embedding_function` is expected to be an Embeddings object, support for passing in a function will soon be removed.\n",
            "WARNING:langchain_community.vectorstores.faiss:`embedding_function` is expected to be an Embeddings object, support for passing in a function will soon be removed.\n"
          ]
        },
        {
          "output_type": "stream",
          "name": "stdout",
          "text": [
            "Knowledge database updated successfully!\n",
            "User-specific memory updated successfully!\n",
            "Knowledge database updated successfully!\n",
            "User-specific memory updated successfully!\n",
            "Knowledge database updated successfully!\n",
            "User-specific memory updated successfully!\n",
            "Knowledge database updated successfully!\n",
            "User-specific memory updated successfully!\n",
            "Knowledge database updated successfully!\n",
            "User-specific memory updated successfully!\n",
            "Knowledge database updated successfully!\n",
            "User-specific memory updated successfully!\n"
          ]
        }
      ]
    },
    {
      "cell_type": "code",
      "source": [
        "for output in outputs_3:\n",
        "    print(output)"
      ],
      "metadata": {
        "colab": {
          "base_uri": "https://localhost:8080/"
        },
        "id": "khrylP95JbeC",
        "outputId": "3a8278e0-bdfe-4b28-86df-8a7bc5fdf187"
      },
      "execution_count": 45,
      "outputs": [
        {
          "output_type": "stream",
          "name": "stdout",
          "text": [
            "The context provided does not specify the exact date of Trump's first conference after the election. It mentions events related to the Campaign Managers Conference at Harvard University and discusses various aspects of Trump's campaign and strategies, but it does not provide a timeline for specific conferences. Therefore, based on the information given, I cannot determine when Trump's first conference after the election was held.\n",
            "Donald Trump nominated Pam Bondi as Attorney General following Matt Gaetz's withdrawal from the position.\n",
            "The provided context does not mention who Donald Trump nominated for Secretary of State.\n",
            "Donald Trump is replacing President Joe Biden as president.\n",
            "The provided context does not specify which top executives Donald Trump has met with or will meet.\n",
            "In the conference, President-elect Donald Trump expressed optimism about improved relations with former adversaries, particularly tech CEOs. He stated, “Everybody wants to be my friend,” indicating a shift in attitude compared to his first term, where he faced significant opposition. Trump highlighted recent meetings with executives from major tech companies and acknowledged the thawing of relations with figures like Elon Musk. He also\n"
          ]
        }
      ]
    },
    {
      "cell_type": "code",
      "source": [
        "rouge_scores_3 = rouge.compute(predictions=outputs_3, references=labels_3)\n",
        "\n",
        "print(\"ROUGE Scores:\")\n",
        "for key, value in rouge_scores_3.items():\n",
        "    print(f\"{key}: {value:.4f}\")"
      ],
      "metadata": {
        "colab": {
          "base_uri": "https://localhost:8080/"
        },
        "id": "-ARkPcPqJd2T",
        "outputId": "77252d8f-e329-4691-9f33-aafe2a39cf84"
      },
      "execution_count": 46,
      "outputs": [
        {
          "output_type": "stream",
          "name": "stdout",
          "text": [
            "ROUGE Scores:\n",
            "rouge1: 0.4786\n",
            "rouge2: 0.3435\n",
            "rougeL: 0.4592\n",
            "rougeLsum: 0.4536\n"
          ]
        }
      ]
    },
    {
      "cell_type": "code",
      "source": [
        "queries_4 = ['Why have drones been in the headlines',\n",
        "             'Were they deployed by the US military',\n",
        "             'Are they a threat']\n",
        "outputs_4 = []\n",
        "labels_4 = ['There have been sightings of mysterious drones flying over New Jersey at night. There is no evidence of malicious activity or foreign involvement.',\n",
        "            'No they are not military drones.',\n",
        "            'The drones are not a threat to public safety or national security. Most of the sightings are misidentified legal aircraft and stars.']\n",
        "\n",
        "model_4 = DualRagModel(logging='quiet', model='gpt')\n",
        "\n",
        "for query in queries_4:\n",
        "    outputs_4.append(model_4.generate_response(query))"
      ],
      "metadata": {
        "colab": {
          "base_uri": "https://localhost:8080/"
        },
        "id": "A5znnGeRJpZi",
        "outputId": "43ddd5d3-5b05-41f7-bb18-a329be18b2da"
      },
      "execution_count": 47,
      "outputs": [
        {
          "output_type": "stream",
          "name": "stderr",
          "text": [
            "WARNING:langchain_community.vectorstores.faiss:`embedding_function` is expected to be an Embeddings object, support for passing in a function will soon be removed.\n",
            "WARNING:langchain_community.vectorstores.faiss:`embedding_function` is expected to be an Embeddings object, support for passing in a function will soon be removed.\n"
          ]
        },
        {
          "output_type": "stream",
          "name": "stdout",
          "text": [
            "Knowledge database updated successfully!\n",
            "User-specific memory updated successfully!\n",
            "Knowledge database updated successfully!\n",
            "User-specific memory updated successfully!\n",
            "Knowledge database updated successfully!\n",
            "User-specific memory updated successfully!\n"
          ]
        }
      ]
    },
    {
      "cell_type": "code",
      "source": [
        "for output in outputs_4:\n",
        "    print(output)"
      ],
      "metadata": {
        "colab": {
          "base_uri": "https://localhost:8080/"
        },
        "id": "G3BBLJXYJrKo",
        "outputId": "512e79fe-f3de-47a4-8359-15ea708acf12"
      },
      "execution_count": 48,
      "outputs": [
        {
          "output_type": "stream",
          "name": "stdout",
          "text": [
            "Drones have been in the headlines due to a significant increase in reported sightings along the East Coast, particularly in states like New Jersey and New York. President Biden addressed these sightings, asserting that they pose no threat and are mostly attributed to commercial, hobbyist, and law enforcement drones. The government has received over 5,000 reports, many of which were misidentified aircraft\n",
            "No, the drones reported in the recent sightings were not deployed by the US military. The sightings are primarily attributed to commercial, hobbyist, and law enforcement drones, according to government officials. The Pentagon and federal agencies have found no evidence of malicious activity or foreign involvement related to these drones.\n",
            "According to government officials, the drones reported in the recent sightings are not considered a threat. President Biden and federal agencies, including the FBI and Department of Homeland Security, have stated that the drones are primarily attributed to commercial, hobbyist, and law enforcement activity, and that there is no evidence of malicious intent or foreign involvement. Local officials, however, have expressed concerns and called\n"
          ]
        }
      ]
    },
    {
      "cell_type": "code",
      "source": [
        "rouge_scores_4 = rouge.compute(predictions=outputs_4, references=labels_4)\n",
        "\n",
        "print(\"ROUGE Scores:\")\n",
        "for key, value in rouge_scores_4.items():\n",
        "    print(f\"{key}: {value:.4f}\")"
      ],
      "metadata": {
        "colab": {
          "base_uri": "https://localhost:8080/"
        },
        "id": "hRnbw6OJJt0S",
        "outputId": "ab8025ae-9037-4615-9b02-5223ae261c33"
      },
      "execution_count": 49,
      "outputs": [
        {
          "output_type": "stream",
          "name": "stdout",
          "text": [
            "ROUGE Scores:\n",
            "rouge1: 0.2378\n",
            "rouge2: 0.0556\n",
            "rougeL: 0.1794\n",
            "rougeLsum: 0.1794\n"
          ]
        }
      ]
    },
    {
      "cell_type": "code",
      "source": [
        "rouge_scores = [rouge_scores_1, rouge_scores_2, rouge_scores_3, rouge_scores_4]\n",
        "\n",
        "keys = ['rouge1', 'rouge2', 'rougeL', 'rougeLsum']\n",
        "values = {key: [d[key] for d in rouge_scores] for key in keys}\n",
        "\n",
        "topics = ['UHC CEO', 'SK Pres.', 'Trump Conf.', 'NJ Drones']\n",
        "\n",
        "x = np.arange(len(rouge_scores))\n",
        "bar_width = 0.4\n",
        "\n",
        "colors = ['red', 'blue', 'green', 'orange']\n",
        "\n",
        "fig, axes = plt.subplots(2, 2, figsize=(12, 8))\n",
        "axes = axes.flatten()\n",
        "\n",
        "x = np.arange(len(rouge_scores))\n",
        "\n",
        "for i, key in enumerate(keys):\n",
        "    ax = axes[i]\n",
        "    for j in range(len(rouge_scores)):\n",
        "        ax.bar(\n",
        "            x[j],\n",
        "            values[key][j],\n",
        "            color=colors[j],\n",
        "            width=0.6,\n",
        "            label=f'Set {j+1}' if i == 0 else \"\"\n",
        "        )\n",
        "    ax.set_title(f'{key.upper()} Scores', fontsize=14)\n",
        "    ax.set_xticks(x)\n",
        "    ax.set_xticklabels([topic for topic in topics])\n",
        "    ax.set_ylim(0, 0.75)\n",
        "    ax.grid(axis='y', linestyle='--', alpha=0.7)\n",
        "    if i == 3:\n",
        "        ax.legend(loc='upper left', bbox_to_anchor=(1, 1))\n",
        "\n",
        "plt.tight_layout()\n",
        "plt.show()"
      ],
      "metadata": {
        "colab": {
          "base_uri": "https://localhost:8080/",
          "height": 845
        },
        "id": "QMqTC44BJyMg",
        "outputId": "5cbfea55-fca1-49f2-fb63-98e3825c2986"
      },
      "execution_count": 50,
      "outputs": [
        {
          "output_type": "stream",
          "name": "stderr",
          "text": [
            "WARNING:matplotlib.legend:No artists with labels found to put in legend.  Note that artists whose label start with an underscore are ignored when legend() is called with no argument.\n"
          ]
        },
        {
          "output_type": "display_data",
          "data": {
            "text/plain": [
              "<Figure size 1200x800 with 4 Axes>"
            ],
            "image/png": "[encoded data removed]"
          },
          "metadata": {}
        }
      ]
    },
    {
      "cell_type": "markdown",
      "source": [
        "### Double Topic Conversations"
      ],
      "metadata": {
        "id": "ghZdI9b-MZTZ"
      }
    },
    {
      "cell_type": "code",
      "source": [
        "queries_5 = [\"Who shot the UHC CEO?\",\n",
        "             \"Where was he shot?\",\n",
        "             \"Where was the suspect found?\",\n",
        "             \"How did people react?\",\n",
        "             'When was President Yoon impeached',\n",
        "             'Who impeached him',\n",
        "             'Why was he impeached',\n",
        "             'What was the public’s reaction']\n",
        "outputs_5 = []\n",
        "labels_5 = [\"Luigi Mangione, a 26 year old Ivy League graduate, shot Brian Thompson, the CEO of UnitedHealthcare\",\n",
        "            \"Brian Thompson was shot in New York City in Midtown Manhattan outside of the Hilton hotel\",\n",
        "            \"Luigi Mangione was found at a McDonald's restaurant in Altoona, Pennsylvania with a fake ID, firearm, and manifesto after being recognized\",\n",
        "            \"People reacted with dark humor, critical commentary, sharing memes, jokes, and personal stories, criticism of the healthcare system, and anger and outrage towards health insurers\",\n",
        "            'President Yoon Suk Yeol was impeached on December 14, 2024.',\n",
        "            'South Korean lawmakers in the National Assembly impeached President Yoon Suk Yeol.',\n",
        "            'President Yoon Suk Yeol was impeached due to his declaration of martial law.',\n",
        "            'There were widespread protests. Thousands of protestors celebrated the result of the impeachment vote and viewed it as a victory for democracy.']\n",
        "\n",
        "model_5 = DualRagModel(logging='quiet', model='gpt')\n",
        "\n",
        "for query in queries_5:\n",
        "    outputs_5.append(model_5.generate_response(query))"
      ],
      "metadata": {
        "id": "_VWbKEUbMCyJ"
      },
      "execution_count": null,
      "outputs": []
    },
    {
      "cell_type": "code",
      "source": [
        "for output in outputs_5:\n",
        "    print(output)"
      ],
      "metadata": {
        "id": "3uEs_WxCMgk9"
      },
      "execution_count": null,
      "outputs": []
    },
    {
      "cell_type": "code",
      "source": [
        "rouge_scores_5 = rouge.compute(predictions=outputs_5, references=labels_5)\n",
        "\n",
        "print(\"ROUGE Scores:\")\n",
        "for key, value in rouge_scores_5.items():\n",
        "    print(f\"{key}: {value:.4f}\")"
      ],
      "metadata": {
        "id": "Z-EQT2ogMjSv"
      },
      "execution_count": null,
      "outputs": []
    },
    {
      "cell_type": "code",
      "source": [
        "queries_6 = ['When was President Yoon impeached',\n",
        "             'Who impeached him',\n",
        "             'Why was he impeached',\n",
        "             'What was the public’s reaction',\n",
        "             'When was Trump’s first conference after the election held',\n",
        "             'Who did he nominate as attorney general',\n",
        "             'Who did he nominate for Secretary of State',\n",
        "             'Who is he replacing as president',\n",
        "             'What top executives has he met with or will meet',\n",
        "             'What did he say in the conference']\n",
        "outputs_6 = []\n",
        "labels_6 = ['President Yoon Suk Yeol was impeached on December 14, 2024.',\n",
        "            'South Korean lawmakers in the National Assembly impeached President Yoon Suk Yeol.',\n",
        "            'President Yoon Suk Yeol was impeached due to his declaration of martial law.',\n",
        "            'There were widespread protests. Thousands of protestors celebrated the result of the impeachment vote and viewed it as a victory for democracy.',\n",
        "            'Donald Trump’s first press conference after the election was held at Mar-a-Lago.',\n",
        "            'Donald Trump nominated Pam Bondi for attorney general.',\n",
        "            'Donald Trump nominated Marco Rubio for Secretary of State.',\n",
        "            'Donald Trump is replacing Joe Biden as president.',\n",
        "            'Donald Trump will meet with Mark Zuckerburg, Tim Cook, Sundar Pichai, and Jeff Bezos.',\n",
        "            \"He discussed SoftBank's $100 billion investment plan in U.S. projects, the Ukraine war, border wall construction and potential legal action, New York Mayor Eric Adams' legal troubles, his transition process and meetings with business leaders, and drones in New Jersey.\"]\n",
        "\n",
        "model_6 = DualRagModel(logging='quiet', model='gpt')\n",
        "\n",
        "for query in queries_6:\n",
        "    outputs_6.append(model_6.generate_response(query))"
      ],
      "metadata": {
        "id": "tLDq8TCnMlMp"
      },
      "execution_count": null,
      "outputs": []
    },
    {
      "cell_type": "code",
      "source": [
        "for output in outputs_6:\n",
        "    print(output)"
      ],
      "metadata": {
        "id": "ft3XeobgMndp"
      },
      "execution_count": null,
      "outputs": []
    },
    {
      "cell_type": "code",
      "source": [
        "rouge_scores_6 = rouge.compute(predictions=outputs_6, references=labels_6)\n",
        "\n",
        "print(\"ROUGE Scores:\")\n",
        "for key, value in rouge_scores_6.items():\n",
        "    print(f\"{key}: {value:.4f}\")"
      ],
      "metadata": {
        "id": "ylKxRHZXMsYV"
      },
      "execution_count": null,
      "outputs": []
    },
    {
      "cell_type": "code",
      "source": [
        "queries_7 = ['When was Trump’s first conference after the election held',\n",
        "             'Who did he nominate as attorney general',\n",
        "             'Who did he nominate for Secretary of State',\n",
        "             'Who is he replacing as president',\n",
        "             'What top executives has he met with or will meet',\n",
        "             'What did he say in the conference',\n",
        "             'Why have drones been in the headlines',\n",
        "             'Were they deployed by the US military',\n",
        "             'Are they a threat']\n",
        "outputs_7 = []\n",
        "labels_7 = ['Donald Trump’s first press conference after the election was held at Mar-a-Lago.',\n",
        "            'Donald Trump nominated Pam Bondi for attorney general.',\n",
        "            'Donald Trump nominated Marco Rubio for Secretary of State.',\n",
        "            'Donald Trump is replacing Joe Biden as president.',\n",
        "            'Donald Trump will meet with Mark Zuckerburg, Tim Cook, Sundar Pichai, and Jeff Bezos.',\n",
        "            \"He discussed SoftBank's $100 billion investment plan in U.S. projects, the Ukraine war, border wall construction and potential legal action, New York Mayor Eric Adams' legal troubles, his transition process and meetings with business leaders, and drones in New Jersey.\",\n",
        "            'There have been sightings of mysterious drones flying over New Jersey at night. There is no evidence of malicious activity or foreign involvement.',\n",
        "            'No they are not military drones.',\n",
        "            'The drones are not a threat to public safety or national security. Most of the sightings are misidentified legal aircraft and stars.']\n",
        "\n",
        "model_7 = DualRagModel(logging='quiet', model='gpt')\n",
        "\n",
        "for query in queries_7:\n",
        "    outputs_7.append(model_7.generate_response(query))"
      ],
      "metadata": {
        "id": "nSbcHiyQMt_O"
      },
      "execution_count": null,
      "outputs": []
    },
    {
      "cell_type": "code",
      "source": [
        "for output in outputs_7:\n",
        "    print(output)"
      ],
      "metadata": {
        "id": "LZnMiOBeMv6W"
      },
      "execution_count": null,
      "outputs": []
    },
    {
      "cell_type": "code",
      "source": [
        "rouge_scores_7 = rouge.compute(predictions=outputs_7, references=labels_7)\n",
        "\n",
        "print(\"ROUGE Scores:\")\n",
        "for key, value in rouge_scores_7.items():\n",
        "    print(f\"{key}: {value:.4f}\")"
      ],
      "metadata": {
        "id": "JT8q1UsfMx4H"
      },
      "execution_count": null,
      "outputs": []
    },
    {
      "cell_type": "code",
      "source": [
        "queries_8 = ['Why have drones been in the headlines',\n",
        "             'Were they deployed by the US military',\n",
        "             'Are they a threat',\n",
        "             \"Who shot the UHC CEO?\",\n",
        "             \"Where was he shot?\",\n",
        "             \"Where was the suspect found?\",\n",
        "             \"How did people react?\"]\n",
        "outputs_8 = []\n",
        "labels_8 = ['There have been sightings of mysterious drones flying over New Jersey at night. There is no evidence of malicious activity or foreign involvement.',\n",
        "            'No they are not military drones.',\n",
        "            'The drones are not a threat to public safety or national security. Most of the sightings are misidentified legal aircraft and stars.',\n",
        "            \"Luigi Mangione, a 26 year old Ivy League graduate, shot Brian Thompson, the CEO of UnitedHealthcare\",\n",
        "            \"Brian Thompson was shot in New York City in Midtown Manhattan outside of the Hilton hotel\",\n",
        "            \"Luigi Mangione was found at a McDonald's restaurant in Altoona, Pennsylvania with a fake ID, firearm, and manifesto after being recognized\",\n",
        "            \"People reacted with dark humor, critical commentary, sharing memes, jokes, and personal stories, criticism of the healthcare system, and anger and outrage towards health insurers\"]\n",
        "\n",
        "model_8 = DualRagModel(logging='quiet', model='gpt')\n",
        "\n",
        "for query in queries_8:\n",
        "    outputs_8.append(model_8.generate_response(query))"
      ],
      "metadata": {
        "id": "yE0-bB9cM1vM"
      },
      "execution_count": null,
      "outputs": []
    },
    {
      "cell_type": "code",
      "source": [
        "for output in outputs_8:\n",
        "    print(output)"
      ],
      "metadata": {
        "id": "FzjTBdfvNEOh"
      },
      "execution_count": null,
      "outputs": []
    },
    {
      "cell_type": "code",
      "source": [
        "rouge_scores_8 = rouge.compute(predictions=outputs_8, references=labels_8)\n",
        "\n",
        "print(\"ROUGE Scores:\")\n",
        "for key, value in rouge_scores_8.items():\n",
        "    print(f\"{key}: {value:.4f}\")"
      ],
      "metadata": {
        "id": "7Xt8Y74iNFxp"
      },
      "execution_count": null,
      "outputs": []
    },
    {
      "cell_type": "code",
      "source": [
        "rouge_scores = [rouge_scores_5, rouge_scores_6, rouge_scores_7, rouge_scores_8]\n",
        "\n",
        "keys = ['rouge1', 'rouge2', 'rougeL', 'rougeLsum']\n",
        "values = {key: [d[key] for d in rouge_scores] for key in keys}\n",
        "\n",
        "topics = ['UHC CEO \\n+ SK Pres.', 'SK Pres. \\n+ Trump Conf.', 'Trump Conf. \\n+ NJ Drones', 'NJ Drones \\n+ UHC CEO']\n",
        "\n",
        "x = np.arange(len(rouge_scores))\n",
        "bar_width = 0.4\n",
        "\n",
        "colors = ['red', 'blue', 'green', 'orange']\n",
        "\n",
        "fig, axes = plt.subplots(2, 2, figsize=(12, 8))\n",
        "axes = axes.flatten()\n",
        "\n",
        "x = np.arange(len(rouge_scores))\n",
        "\n",
        "for i, key in enumerate(keys):\n",
        "    ax = axes[i]\n",
        "    for j in range(len(rouge_scores)):\n",
        "        ax.bar(\n",
        "            x[j],\n",
        "            values[key][j],\n",
        "            color=colors[j],\n",
        "            width=0.6,\n",
        "            label=f'Set {j+1}' if i == 0 else \"\"\n",
        "        )\n",
        "    ax.set_title(f'{key.upper()} Scores', fontsize=14)\n",
        "    ax.set_xticks(x)\n",
        "    ax.set_xticklabels([topic for topic in topics])\n",
        "    ax.set_ylim(0, 0.5)\n",
        "    ax.grid(axis='y', linestyle='--', alpha=0.7)\n",
        "    if i == 3:\n",
        "        ax.legend(loc='upper left', bbox_to_anchor=(1, 1))\n",
        "\n",
        "plt.tight_layout()\n",
        "plt.show()"
      ],
      "metadata": {
        "id": "rDaXpeRNNRgD"
      },
      "execution_count": null,
      "outputs": []
    }
  ]
}